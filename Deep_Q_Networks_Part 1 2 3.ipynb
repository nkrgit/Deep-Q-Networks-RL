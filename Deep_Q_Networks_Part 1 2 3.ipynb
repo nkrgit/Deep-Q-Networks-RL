{
  "nbformat": 4,
  "nbformat_minor": 0,
  "metadata": {
    "colab": {
      "name": "nkarnati_assignment2.ipynb",
      "provenance": [],
      "collapsed_sections": [
        "XOsEP601EVkb",
        "ER0m5kwZc8qp",
        "96BvVDxeVRm7",
        "OvxtpKnoVz53",
        "5wHhOOnFdCT2",
        "b4u10ghvpSL-",
        "gl82wgI0aAhD",
        "jX59fxrMw74-",
        "rGq5ZPpVrNzg",
        "s-davGxQxMT5",
        "S4E3mI-kanRP",
        "oSWy7zztp9nV",
        "fQ5Np70j0qXe"
      ]
    },
    "kernelspec": {
      "name": "python3",
      "display_name": "Python 3"
    },
    "language_info": {
      "name": "python"
    },
    "accelerator": "TPU"
  },
  "cells": [
    {
      "cell_type": "markdown",
      "source": [
        "I certify that the code and data in this assignment were generated independently, using only the tools\n",
        "and resources defined in the course and that I did not receive any external help, coaching or contributions\n",
        "during the production of this work."
      ],
      "metadata": {
        "id": "IiduuftsKVDI"
      }
    },
    {
      "cell_type": "markdown",
      "source": [
        "#Libraries"
      ],
      "metadata": {
        "id": "XOsEP601EVkb"
      }
    },
    {
      "cell_type": "code",
      "source": [
        "import gym\n",
        "import timeit\n",
        "import matplotlib.pyplot as plt\n",
        "from gym import wrappers\n",
        "import math\n",
        "from collections import deque\n",
        "from gym import spaces\n",
        "import numpy as np\n",
        "\n",
        "import tensorflow.keras.backend as K\n",
        "from tensorflow.keras.optimizers import Adam, SGD\n",
        "from tensorflow.keras.layers import Dense\n",
        "from tensorflow.keras.models import Sequential\n",
        "from tensorflow.keras.utils import to_categorical\n",
        "from tensorflow.keras import regularizers\n",
        "import tensorflow as tf\n",
        "import pandas as pd\n",
        "import random\n"
      ],
      "metadata": {
        "id": "NkZ1btyWjOhT"
      },
      "execution_count": null,
      "outputs": []
    },
    {
      "cell_type": "code",
      "source": [
        "with tf.device('/gpu:0'):\n",
        "  print(\"present\")\n",
        "with tf.device('/device:GPU:0'):\n",
        "  print(\"Captial GPU\")\n"
      ],
      "metadata": {
        "colab": {
          "base_uri": "https://localhost:8080/"
        },
        "id": "Sf3uBaPwRjr7",
        "outputId": "c2e6da3b-8421-433f-f3a8-f9706189819d"
      },
      "execution_count": null,
      "outputs": [
        {
          "output_type": "stream",
          "name": "stdout",
          "text": [
            "present\n",
            "Captial GPU\n"
          ]
        }
      ]
    },
    {
      "cell_type": "code",
      "source": [
        "# with tf.device('/gpu:0'):\n",
        "tf.__version__"
      ],
      "metadata": {
        "id": "zmUEDn8WksRg",
        "colab": {
          "base_uri": "https://localhost:8080/"
        },
        "outputId": "66fe2c28-081d-4a52-df69-f8e9cdebca04"
      },
      "execution_count": null,
      "outputs": [
        {
          "output_type": "execute_result",
          "data": {
            "text/plain": [
              "'2.8.0'"
            ],
            "application/vnd.google.colaboratory.intrinsic+json": {
              "type": "string"
            }
          },
          "metadata": {},
          "execution_count": 10
        }
      ]
    },
    {
      "cell_type": "markdown",
      "source": [
        "#Part I"
      ],
      "metadata": {
        "id": "ER0m5kwZc8qp"
      }
    },
    {
      "cell_type": "markdown",
      "source": [
        "##Cart Pole v1"
      ],
      "metadata": {
        "id": "96BvVDxeVRm7"
      }
    },
    {
      "cell_type": "code",
      "source": [
        "!pip install gym\n",
        "!apt-get install python-opengl -y\n",
        "!apt install xvfb -y\n",
        "!pip install pyvirtualdisplay\n",
        "!pip install piglet\n",
        "%matplotlib inline\n",
        "!pip install gym-algorithmic\n",
        "from pyvirtualdisplay import Display\n",
        "display = Display(visible=0, size=(1400, 900))\n",
        "display.start()\n",
        "# This code creates a virtual display to draw game images on. \n",
        "# If you are running locally, just ignore it\n",
        "import gym\n",
        "from gym import logger as gymlogger\n",
        "from gym.wrappers import Monitor\n",
        "gymlogger.set_level(40) # error only\n",
        "%matplotlib inline\n",
        "import math\n",
        "import glob\n",
        "import io\n",
        "import base64\n",
        "from IPython.display import HTML\n",
        "from IPython import display as ipythondisplay"
      ],
      "metadata": {
        "colab": {
          "base_uri": "https://localhost:8080/"
        },
        "id": "A08T_ZBpSudu",
        "outputId": "6d444994-4081-4751-f6c1-20db24db32aa"
      },
      "execution_count": null,
      "outputs": [
        {
          "output_type": "stream",
          "name": "stdout",
          "text": [
            "Requirement already satisfied: gym in /usr/local/lib/python3.7/dist-packages (0.23.1)\n",
            "Requirement already satisfied: numpy>=1.18.0 in /usr/local/lib/python3.7/dist-packages (from gym) (1.21.5)\n",
            "Requirement already satisfied: importlib-metadata>=4.10.0 in /usr/local/lib/python3.7/dist-packages (from gym) (4.11.3)\n",
            "Requirement already satisfied: cloudpickle>=1.2.0 in /usr/local/lib/python3.7/dist-packages (from gym) (1.3.0)\n",
            "Requirement already satisfied: gym-notices>=0.0.4 in /usr/local/lib/python3.7/dist-packages (from gym) (0.0.6)\n",
            "Requirement already satisfied: zipp>=0.5 in /usr/local/lib/python3.7/dist-packages (from importlib-metadata>=4.10.0->gym) (3.7.0)\n",
            "Requirement already satisfied: typing-extensions>=3.6.4 in /usr/local/lib/python3.7/dist-packages (from importlib-metadata>=4.10.0->gym) (3.10.0.2)\n",
            "Reading package lists... Done\n",
            "Building dependency tree       \n",
            "Reading state information... Done\n",
            "python-opengl is already the newest version (3.1.0+dfsg-1).\n",
            "0 upgraded, 0 newly installed, 0 to remove and 39 not upgraded.\n",
            "Reading package lists... Done\n",
            "Building dependency tree       \n",
            "Reading state information... Done\n",
            "xvfb is already the newest version (2:1.19.6-1ubuntu4.10).\n",
            "0 upgraded, 0 newly installed, 0 to remove and 39 not upgraded.\n",
            "Requirement already satisfied: pyvirtualdisplay in /usr/local/lib/python3.7/dist-packages (3.0)\n",
            "Requirement already satisfied: piglet in /usr/local/lib/python3.7/dist-packages (1.0.0)\n",
            "Requirement already satisfied: piglet-templates in /usr/local/lib/python3.7/dist-packages (from piglet) (1.2.0)\n",
            "Requirement already satisfied: markupsafe in /usr/local/lib/python3.7/dist-packages (from piglet-templates->piglet) (2.0.1)\n",
            "Requirement already satisfied: pyparsing in /usr/local/lib/python3.7/dist-packages (from piglet-templates->piglet) (3.0.7)\n",
            "Requirement already satisfied: attrs in /usr/local/lib/python3.7/dist-packages (from piglet-templates->piglet) (21.4.0)\n",
            "Requirement already satisfied: astunparse in /usr/local/lib/python3.7/dist-packages (from piglet-templates->piglet) (1.6.3)\n",
            "Requirement already satisfied: six<2.0,>=1.6.1 in /usr/local/lib/python3.7/dist-packages (from astunparse->piglet-templates->piglet) (1.15.0)\n",
            "Requirement already satisfied: wheel<1.0,>=0.23.0 in /usr/local/lib/python3.7/dist-packages (from astunparse->piglet-templates->piglet) (0.37.1)\n",
            "Requirement already satisfied: gym-algorithmic in /usr/local/lib/python3.7/dist-packages (0.0.1)\n",
            "Requirement already satisfied: gym>=0.19.0 in /usr/local/lib/python3.7/dist-packages (from gym-algorithmic) (0.23.1)\n",
            "Requirement already satisfied: numpy>=1.18.0 in /usr/local/lib/python3.7/dist-packages (from gym>=0.19.0->gym-algorithmic) (1.21.5)\n",
            "Requirement already satisfied: cloudpickle>=1.2.0 in /usr/local/lib/python3.7/dist-packages (from gym>=0.19.0->gym-algorithmic) (1.3.0)\n",
            "Requirement already satisfied: importlib-metadata>=4.10.0 in /usr/local/lib/python3.7/dist-packages (from gym>=0.19.0->gym-algorithmic) (4.11.3)\n",
            "Requirement already satisfied: gym-notices>=0.0.4 in /usr/local/lib/python3.7/dist-packages (from gym>=0.19.0->gym-algorithmic) (0.0.6)\n",
            "Requirement already satisfied: zipp>=0.5 in /usr/local/lib/python3.7/dist-packages (from importlib-metadata>=4.10.0->gym>=0.19.0->gym-algorithmic) (3.7.0)\n",
            "Requirement already satisfied: typing-extensions>=3.6.4 in /usr/local/lib/python3.7/dist-packages (from importlib-metadata>=4.10.0->gym>=0.19.0->gym-algorithmic) (3.10.0.2)\n"
          ]
        }
      ]
    },
    {
      "cell_type": "code",
      "source": [
        "import gym\n",
        "import pyglet\n",
        "env = gym.make('CartPole-v1')\n",
        "env.reset()\n",
        "print(env.action_space)\n",
        "print(env.observation_space)\n"
      ],
      "metadata": {
        "colab": {
          "base_uri": "https://localhost:8080/"
        },
        "id": "dL6JM-Z9KWap",
        "outputId": "2f4a55b6-8454-4ecb-8d80-b16e32566d5a"
      },
      "execution_count": null,
      "outputs": [
        {
          "output_type": "stream",
          "name": "stdout",
          "text": [
            "Discrete(2)\n",
            "Box(-3.4028234663852886e+38, 3.4028234663852886e+38, (4,), float32)\n"
          ]
        }
      ]
    },
    {
      "cell_type": "markdown",
      "source": [
        "Cart pole v1 main details:\n",
        "\n",
        "Goal: To keep the pole upright.\n",
        "\n",
        "Action:\n",
        "0:Left\n",
        "1:Right\n",
        "\n",
        "Observation space:\n",
        "(Observation,\tMin,\tMax):\n",
        "\n",
        "0. (Cart Position,\t-4.8,\t4.8)\n",
        "\n",
        "1.\t(Cart Velocity,\t-Inf,\tInf)\n",
        "2.\t(Pole Angle,\t~ -0.418 rad (-24°),\t~ 0.418 rad (24°))\n",
        "3. (Pole Angular Velocity,\t-Inf,\tInf)\n",
        "\n",
        "\n",
        "Rewards:\n",
        "Reward of +1 for every step taken including the termination step, is allotted. The threshold for rewards is 475 for v1.\n",
        "\n",
        "Initial State:\n",
        "All observations are assigned a uniformly random value in (-0.05, 0.05)\n",
        "\n",
        "Episode Termination Conditions\n",
        "\n",
        "1. Pole Angle is greater than ±12°\n",
        "2. Cart Position is greater than ±2.4 (center of the cart reaches the edge of the display)\n",
        "3. Episode length is greater than 500 (200 for v0)\n"
      ],
      "metadata": {
        "id": "lNMiZPeKTbBz"
      }
    },
    {
      "cell_type": "markdown",
      "source": [
        "##Mountain Car - v0\n"
      ],
      "metadata": {
        "id": "OvxtpKnoVz53"
      }
    },
    {
      "cell_type": "code",
      "source": [
        "import gym\n",
        "env = gym.make('MountainCar-v0')\n",
        "env.reset()\n",
        "print(env.action_space)\n",
        "print(env.observation_space)"
      ],
      "metadata": {
        "colab": {
          "base_uri": "https://localhost:8080/"
        },
        "id": "UHBifZO-V4i9",
        "outputId": "597ab639-8cdb-4b8c-f28b-71aeed3f93ad"
      },
      "execution_count": null,
      "outputs": [
        {
          "output_type": "stream",
          "name": "stdout",
          "text": [
            "Discrete(3)\n",
            "Box(-1.2000000476837158, 0.6000000238418579, (2,), float32)\n"
          ]
        }
      ]
    },
    {
      "cell_type": "markdown",
      "source": [
        "Mountain car main details\n"
      ],
      "metadata": {
        "id": "oK_9bE0HW2pi"
      }
    },
    {
      "cell_type": "markdown",
      "source": [
        "Goal: The goal is to reach the flag placed on top of the right hill as quickly as possible.\n",
        "\n",
        "Actions:\n",
        "\n",
        "0. Accelerate to the left\n",
        "1. Don't accelerate\n",
        "2. Accelerate to the right\n",
        "\n",
        "Observation space:\n",
        "\n",
        "0. Position of the car along the x-axis\n",
        "1. Velocity of the car\n",
        "\n",
        "Reward:\n",
        "\n",
        "0: if it takes step towards the goal.\n",
        "-1: if it takes step that isn't towards the goal\n",
        "\n",
        "Initial State:\n",
        "\n",
        "The position of the car is assigned a uniform random value in [-0.6 , -0.4]. The starting velocity of the car is always 0.\n",
        "\n",
        "Episode Termination Conditions:\n",
        "\n",
        "1. The position of the car is greater than or equal to 0.5 (the goal position on top of the right hill)\n",
        "2. The length of the episode is 200."
      ],
      "metadata": {
        "id": "E4OiiXUHXmp-"
      }
    },
    {
      "cell_type": "markdown",
      "source": [
        "#Part II"
      ],
      "metadata": {
        "id": "5wHhOOnFdCT2"
      }
    },
    {
      "cell_type": "markdown",
      "source": [
        "##Grid World"
      ],
      "metadata": {
        "id": "b4u10ghvpSL-"
      }
    },
    {
      "cell_type": "code",
      "source": [
        "from google.colab import widgets\n",
        "import time"
      ],
      "metadata": {
        "id": "5JeNM2xtqFJL"
      },
      "execution_count": null,
      "outputs": []
    },
    {
      "cell_type": "code",
      "source": [
        "\n",
        "class GridEnvironment(gym.Env):\n",
        "    metadata = { 'render.modes': [] }\n",
        "    \n",
        "    def __init__(self):\n",
        "        self.observation_space = spaces.Discrete(16) #Intializing a 4x4 grid with 16 states: {s1, s2, s3,....s16}\n",
        "        self.action_space = spaces.Discrete(4) #Intializing 4 actions:  {0: down, 1: up, 2: right, 3: left}\n",
        "        self.done = False\n",
        "        #rewards = {-2, -1, 0, 3, 4, 100} defined below\n",
        "        \n",
        "    def reset(self):\n",
        "  \n",
        "        self.agent_pos = [0, 0] #start position\n",
        "        self.goal_pos = [3, 3] #target position (+150)\n",
        "        self.danger1_pos = [1,1] #first danger position (-1)\n",
        "        self.danger2_pos = [2,2] #second danger position (-2)\n",
        "        self.gold1_pos = [2,0] #First positive reward position (+1)\n",
        "        self.gold2_pos = [3,0] #Second positive reward position (+1)\n",
        "        self.done = False\n",
        "        self.state = np.zeros((4,4))\n",
        "        observation = self.state.flatten()\n",
        "        return observation\n",
        "    \n",
        "    def step(self, action, deterministic = False, stochastic = False):\n",
        "\n",
        "        #determinstic environment\n",
        "        if deterministic == True:\n",
        "          epsilon1, epsilon2 = 1, 1 #With probability 1 Agent chooses given action\n",
        "\n",
        "        #stochastic environment\n",
        "        if stochastic == True:\n",
        "          epsilon1, epsilon2 = 0.7, 0.8 #Transistion probabilites of 0.7 and 0.8 \n",
        "          #Σ(p(s', r/s, down) = 0.7 + 0.3 = 1\n",
        "          #Σ(p(s', r/s, right) = 0.8 + 0.2 = 1 \n",
        "\n",
        "        #Actions\n",
        "        if action == 0: #down\n",
        "            rand_num1 = np.random.random()\n",
        "            if epsilon1 >= rand_num1:  \n",
        "              self.agent_pos[0] += 1   \n",
        "            else: #For all states in stochastic environment when Down action is choosen: Agent chooses down state with a transition probability of 0.7 and up state with 0.3 transition probaility\n",
        "              self.agent_pos[0] -= 1\n",
        "              # print(\"Up state is choosen with 0.3 probability instead of Down\")\n",
        "\n",
        "        if action == 1: #up\n",
        "            self.agent_pos[0] -= 1\n",
        "\n",
        "        if action == 2: #right\n",
        "            rand_num2 = np.random.random()\n",
        "            if epsilon2 >= rand_num2:  \n",
        "              self.agent_pos[1] += 1        \n",
        "            else:#For all states in stochastic environment when Right action is choosen: Agent chooses right state with a transition probability of 0.8 and left state with 0.2 transition probaility\n",
        "              self.agent_pos[1] -= 1\n",
        "              # print(\"Left state is choosen with 0.2 probability instead of Right\")\n",
        "\n",
        "        if action == 3: #left\n",
        "            self.agent_pos[1] -= 1\n",
        "          \n",
        "        self.agent_pos = np.clip(self.agent_pos, 0, 3) #ensuring agent doesn't go out of the grid #One of the ways to ensure safety in the environment\n",
        "        self.state = np.zeros((4,4))\n",
        "\n",
        "        observation = self.state.flatten()\n",
        "        \n",
        "        reward = 0 #Intializing reward to zero\n",
        "        if (self.agent_pos == self.goal_pos).all():\n",
        "            reward = 150 #A reward of 150 if it reaches target position\n",
        "            self.done = True\n",
        "\n",
        "        #Rewards structure\n",
        "        elif (self.agent_pos == self.danger1_pos).all():\n",
        "            reward = -1 #A negative reward -1 if it enters 1st danger position\n",
        "\n",
        "        elif (self.agent_pos == self.danger2_pos).all():\n",
        "            reward = -2 #A negative reward of -2 if it enters 2nd danger position\n",
        "\n",
        "        elif (self.agent_pos == self.gold1_pos).all():\n",
        "            reward = 1 #A reward of +1 at [2,0]\n",
        "\n",
        "        elif (self.agent_pos == self.gold2_pos).all():\n",
        "            reward = 2 #A reward of +2 at [3,0]\n",
        "\n",
        "        return reward, self.agent_pos, self.done\n",
        "        \n",
        "    def render(self):\n",
        "        plt.imshow(self.state)"
      ],
      "metadata": {
        "id": "O455nKsbqHDZ"
      },
      "execution_count": null,
      "outputs": []
    },
    {
      "cell_type": "code",
      "source": [
        "class RandomAgent: #Definig the Random agent class\n",
        "    def __init__(self, env):\n",
        "        self.env = env\n",
        "        self.observation_space = env.observation_space\n",
        "        self.action_space = env.action_space\n",
        "\n",
        "    def step(self, observation): #Just for reference I have developed action space in algorithm #Random agent chooses random action every time we call step method\n",
        "        return np.random.choice(self.action_space.n)"
      ],
      "metadata": {
        "id": "AX8eTrhSqqSi"
      },
      "execution_count": null,
      "outputs": []
    },
    {
      "cell_type": "code",
      "source": [
        "env = GridEnvironment()\n",
        "# agent = RandomAgent(env)#creating a random agent to explore the given environments \n",
        "obs = env.reset()#resets the environment to its initial configuration\n",
        "\n",
        "#Displays grid in its intial configuration\n",
        "print(\"Grid Environment\\n\")\n",
        "output_grid2 = widgets.Grid(4, 4, header_row=True, header_column=True,  style='background-color: black; font-size: 25px; color: white')\n",
        "print(\"\\n\")\n",
        "with output_grid2.output_to(0, 0):\n",
        "    print(\"Start\")\n",
        "with output_grid2.output_to(3, 3):\n",
        "    print(\"Target\")\n",
        "with output_grid2.output_to(1, 1):\n",
        "    print(\"-1\")\n",
        "with output_grid2.output_to(2, 2):\n",
        "    print(\"-2\")\n",
        "with output_grid2.output_to(2, 0):\n",
        "    print(\"+1\")\n",
        "with output_grid2.output_to(3, 0):\n",
        "    print(\"+2\")"
      ],
      "metadata": {
        "colab": {
          "base_uri": "https://localhost:8080/"
        },
        "id": "GexGpkBEqLXO",
        "outputId": "d77e4670-4b63-42f1-cf4f-aa269c39973d"
      },
      "execution_count": null,
      "outputs": [
        {
          "output_type": "stream",
          "name": "stdout",
          "text": [
            "Grid Environment\n",
            "\n"
          ]
        },
        {
          "output_type": "display_data",
          "data": {
            "text/plain": [
              "<IPython.core.display.HTML object>"
            ],
            "text/html": [
              "<style>\n",
              "       table#id2, #id2 > tbody > tr > th, #id2 > tbody > tr > td {\n",
              "         border: 1px solid lightgray;\n",
              "         border-collapse:collapse;\n",
              "         background-color: black; font-size: 25px; color: white\n",
              "        }</style>"
            ]
          },
          "metadata": {}
        },
        {
          "output_type": "display_data",
          "data": {
            "text/plain": [
              "<IPython.core.display.HTML object>"
            ],
            "text/html": [
              "<table id=id2><tr><th id=id2-0-0></th><th id=id2-0-1></th><th id=id2-0-2></th><th id=id2-0-3></th></tr><tr><th id=id2-1-0></th><td id=id2-1-1></td><td id=id2-1-2></td><td id=id2-1-3></td></tr><tr><th id=id2-2-0></th><td id=id2-2-1></td><td id=id2-2-2></td><td id=id2-2-3></td></tr><tr><th id=id2-3-0></th><td id=id2-3-1></td><td id=id2-3-2></td><td id=id2-3-3></td></tr></table>"
            ]
          },
          "metadata": {}
        },
        {
          "output_type": "stream",
          "name": "stdout",
          "text": [
            "\n",
            "\n"
          ]
        },
        {
          "output_type": "display_data",
          "data": {
            "text/plain": [
              "<IPython.core.display.Javascript object>"
            ],
            "application/javascript": [
              "window[\"8627edba-bb9b-11ec-9671-0242ac1c0002\"] = google.colab.output.getActiveOutputArea();\n",
              "//# sourceURL=js_dc9c49cfbd"
            ]
          },
          "metadata": {}
        },
        {
          "output_type": "display_data",
          "data": {
            "text/plain": [
              "<IPython.core.display.Javascript object>"
            ],
            "application/javascript": [
              "window[\"86285e80-bb9b-11ec-9671-0242ac1c0002\"] = document.querySelector(\"#id2-0-0\");\n",
              "//# sourceURL=js_24df6c9db6"
            ]
          },
          "metadata": {}
        },
        {
          "output_type": "display_data",
          "data": {
            "text/plain": [
              "<IPython.core.display.Javascript object>"
            ],
            "application/javascript": [
              "window[\"8628b894-bb9b-11ec-9671-0242ac1c0002\"] = google.colab.output.setActiveOutputArea(window[\"86285e80-bb9b-11ec-9671-0242ac1c0002\"]);\n",
              "//# sourceURL=js_08238574d6"
            ]
          },
          "metadata": {}
        },
        {
          "output_type": "stream",
          "name": "stdout",
          "text": [
            "Start\n"
          ]
        },
        {
          "output_type": "display_data",
          "data": {
            "text/plain": [
              "<IPython.core.display.Javascript object>"
            ],
            "application/javascript": [
              "window[\"862a6fb8-bb9b-11ec-9671-0242ac1c0002\"] = google.colab.output.setActiveOutputArea(window[\"8627edba-bb9b-11ec-9671-0242ac1c0002\"]);\n",
              "//# sourceURL=js_b9fcc47be5"
            ]
          },
          "metadata": {}
        },
        {
          "output_type": "display_data",
          "data": {
            "text/plain": [
              "<IPython.core.display.Javascript object>"
            ],
            "application/javascript": [
              "window[\"862c5c60-bb9b-11ec-9671-0242ac1c0002\"] = google.colab.output.getActiveOutputArea();\n",
              "//# sourceURL=js_01f75c03a1"
            ]
          },
          "metadata": {}
        },
        {
          "output_type": "display_data",
          "data": {
            "text/plain": [
              "<IPython.core.display.Javascript object>"
            ],
            "application/javascript": [
              "window[\"862ca904-bb9b-11ec-9671-0242ac1c0002\"] = document.querySelector(\"#id2-3-3\");\n",
              "//# sourceURL=js_c630426383"
            ]
          },
          "metadata": {}
        },
        {
          "output_type": "display_data",
          "data": {
            "text/plain": [
              "<IPython.core.display.Javascript object>"
            ],
            "application/javascript": [
              "window[\"862ceff4-bb9b-11ec-9671-0242ac1c0002\"] = google.colab.output.setActiveOutputArea(window[\"862ca904-bb9b-11ec-9671-0242ac1c0002\"]);\n",
              "//# sourceURL=js_dd48cbd8ca"
            ]
          },
          "metadata": {}
        },
        {
          "output_type": "stream",
          "name": "stdout",
          "text": [
            "Target\n"
          ]
        },
        {
          "output_type": "display_data",
          "data": {
            "text/plain": [
              "<IPython.core.display.Javascript object>"
            ],
            "application/javascript": [
              "window[\"862e0be6-bb9b-11ec-9671-0242ac1c0002\"] = google.colab.output.setActiveOutputArea(window[\"862c5c60-bb9b-11ec-9671-0242ac1c0002\"]);\n",
              "//# sourceURL=js_fb909fdff9"
            ]
          },
          "metadata": {}
        },
        {
          "output_type": "display_data",
          "data": {
            "text/plain": [
              "<IPython.core.display.Javascript object>"
            ],
            "application/javascript": [
              "window[\"862fbcf2-bb9b-11ec-9671-0242ac1c0002\"] = google.colab.output.getActiveOutputArea();\n",
              "//# sourceURL=js_dcd144016f"
            ]
          },
          "metadata": {}
        },
        {
          "output_type": "display_data",
          "data": {
            "text/plain": [
              "<IPython.core.display.Javascript object>"
            ],
            "application/javascript": [
              "window[\"86300ae0-bb9b-11ec-9671-0242ac1c0002\"] = document.querySelector(\"#id2-1-1\");\n",
              "//# sourceURL=js_15ea87917f"
            ]
          },
          "metadata": {}
        },
        {
          "output_type": "display_data",
          "data": {
            "text/plain": [
              "<IPython.core.display.Javascript object>"
            ],
            "application/javascript": [
              "window[\"863051e4-bb9b-11ec-9671-0242ac1c0002\"] = google.colab.output.setActiveOutputArea(window[\"86300ae0-bb9b-11ec-9671-0242ac1c0002\"]);\n",
              "//# sourceURL=js_2625257e9c"
            ]
          },
          "metadata": {}
        },
        {
          "output_type": "stream",
          "name": "stdout",
          "text": [
            "-1\n"
          ]
        },
        {
          "output_type": "display_data",
          "data": {
            "text/plain": [
              "<IPython.core.display.Javascript object>"
            ],
            "application/javascript": [
              "window[\"86316cdc-bb9b-11ec-9671-0242ac1c0002\"] = google.colab.output.setActiveOutputArea(window[\"862fbcf2-bb9b-11ec-9671-0242ac1c0002\"]);\n",
              "//# sourceURL=js_1d14469892"
            ]
          },
          "metadata": {}
        },
        {
          "output_type": "display_data",
          "data": {
            "text/plain": [
              "<IPython.core.display.Javascript object>"
            ],
            "application/javascript": [
              "window[\"86334a8e-bb9b-11ec-9671-0242ac1c0002\"] = google.colab.output.getActiveOutputArea();\n",
              "//# sourceURL=js_f6a4142143"
            ]
          },
          "metadata": {}
        },
        {
          "output_type": "display_data",
          "data": {
            "text/plain": [
              "<IPython.core.display.Javascript object>"
            ],
            "application/javascript": [
              "window[\"86339340-bb9b-11ec-9671-0242ac1c0002\"] = document.querySelector(\"#id2-2-2\");\n",
              "//# sourceURL=js_3bc56386f9"
            ]
          },
          "metadata": {}
        },
        {
          "output_type": "display_data",
          "data": {
            "text/plain": [
              "<IPython.core.display.Javascript object>"
            ],
            "application/javascript": [
              "window[\"8633d8a0-bb9b-11ec-9671-0242ac1c0002\"] = google.colab.output.setActiveOutputArea(window[\"86339340-bb9b-11ec-9671-0242ac1c0002\"]);\n",
              "//# sourceURL=js_9b245c250d"
            ]
          },
          "metadata": {}
        },
        {
          "output_type": "stream",
          "name": "stdout",
          "text": [
            "-2\n"
          ]
        },
        {
          "output_type": "display_data",
          "data": {
            "text/plain": [
              "<IPython.core.display.Javascript object>"
            ],
            "application/javascript": [
              "window[\"8634ec68-bb9b-11ec-9671-0242ac1c0002\"] = google.colab.output.setActiveOutputArea(window[\"86334a8e-bb9b-11ec-9671-0242ac1c0002\"]);\n",
              "//# sourceURL=js_edbecb7c26"
            ]
          },
          "metadata": {}
        },
        {
          "output_type": "display_data",
          "data": {
            "text/plain": [
              "<IPython.core.display.Javascript object>"
            ],
            "application/javascript": [
              "window[\"8636a6b6-bb9b-11ec-9671-0242ac1c0002\"] = google.colab.output.getActiveOutputArea();\n",
              "//# sourceURL=js_3bd046400b"
            ]
          },
          "metadata": {}
        },
        {
          "output_type": "display_data",
          "data": {
            "text/plain": [
              "<IPython.core.display.Javascript object>"
            ],
            "application/javascript": [
              "window[\"86374e54-bb9b-11ec-9671-0242ac1c0002\"] = document.querySelector(\"#id2-2-0\");\n",
              "//# sourceURL=js_18ef165c23"
            ]
          },
          "metadata": {}
        },
        {
          "output_type": "display_data",
          "data": {
            "text/plain": [
              "<IPython.core.display.Javascript object>"
            ],
            "application/javascript": [
              "window[\"863799ea-bb9b-11ec-9671-0242ac1c0002\"] = google.colab.output.setActiveOutputArea(window[\"86374e54-bb9b-11ec-9671-0242ac1c0002\"]);\n",
              "//# sourceURL=js_81c6522b20"
            ]
          },
          "metadata": {}
        },
        {
          "output_type": "stream",
          "name": "stdout",
          "text": [
            "+1\n"
          ]
        },
        {
          "output_type": "display_data",
          "data": {
            "text/plain": [
              "<IPython.core.display.Javascript object>"
            ],
            "application/javascript": [
              "window[\"863a5612-bb9b-11ec-9671-0242ac1c0002\"] = google.colab.output.setActiveOutputArea(window[\"8636a6b6-bb9b-11ec-9671-0242ac1c0002\"]);\n",
              "//# sourceURL=js_836011b72c"
            ]
          },
          "metadata": {}
        },
        {
          "output_type": "display_data",
          "data": {
            "text/plain": [
              "<IPython.core.display.Javascript object>"
            ],
            "application/javascript": [
              "window[\"863c0f5c-bb9b-11ec-9671-0242ac1c0002\"] = google.colab.output.getActiveOutputArea();\n",
              "//# sourceURL=js_0d11aeacf4"
            ]
          },
          "metadata": {}
        },
        {
          "output_type": "display_data",
          "data": {
            "text/plain": [
              "<IPython.core.display.Javascript object>"
            ],
            "application/javascript": [
              "window[\"863c634e-bb9b-11ec-9671-0242ac1c0002\"] = document.querySelector(\"#id2-3-0\");\n",
              "//# sourceURL=js_5ecdbbef65"
            ]
          },
          "metadata": {}
        },
        {
          "output_type": "display_data",
          "data": {
            "text/plain": [
              "<IPython.core.display.Javascript object>"
            ],
            "application/javascript": [
              "window[\"863d2c7a-bb9b-11ec-9671-0242ac1c0002\"] = google.colab.output.setActiveOutputArea(window[\"863c634e-bb9b-11ec-9671-0242ac1c0002\"]);\n",
              "//# sourceURL=js_d6551fde27"
            ]
          },
          "metadata": {}
        },
        {
          "output_type": "stream",
          "name": "stdout",
          "text": [
            "+2\n"
          ]
        },
        {
          "output_type": "display_data",
          "data": {
            "text/plain": [
              "<IPython.core.display.Javascript object>"
            ],
            "application/javascript": [
              "window[\"863e767a-bb9b-11ec-9671-0242ac1c0002\"] = google.colab.output.setActiveOutputArea(window[\"863c0f5c-bb9b-11ec-9671-0242ac1c0002\"]);\n",
              "//# sourceURL=js_19074181e1"
            ]
          },
          "metadata": {}
        }
      ]
    },
    {
      "cell_type": "code",
      "source": [
        "test_states = [x for x in range(env.observation_space.n)]\n",
        "test_states = tf.keras.utils.to_categorical(test_states)\n",
        "# test_states"
      ],
      "metadata": {
        "id": "B8--ToDNFTch"
      },
      "execution_count": null,
      "outputs": []
    },
    {
      "cell_type": "code",
      "source": [
        ""
      ],
      "metadata": {
        "id": "w26NshYkZ_kF"
      },
      "execution_count": null,
      "outputs": []
    },
    {
      "cell_type": "markdown",
      "source": [
        "##DQN Algorithm"
      ],
      "metadata": {
        "id": "gl82wgI0aAhD"
      }
    },
    {
      "cell_type": "code",
      "source": [
        "#DQN Algorithm\n",
        "\n",
        "class DQN_algo:\n",
        "\n",
        "  def __init__(self, states, actions):\n",
        "    self.states = states\n",
        "    self.actions = actions\n",
        "    self.replay_mem = deque(maxlen = 2000)\n",
        "\n",
        "    self.discount_rate = 0.99\n",
        "    self.epsilon = 1\n",
        "\n",
        "    #Policy and target networks\n",
        "    self.policy_model = self.nnmodel()\n",
        "    self.target_model = self.nnmodel()\n",
        "\n",
        "    self.target_model.set_weights(self.policy_model.get_weights())\n",
        "    self.policy_model.summary()\n",
        "\n",
        "  def nnmodel(self):\n",
        "    model = Sequential()\n",
        "\n",
        "    model.add(Dense(64, activation='relu', input_dim = 16)) #first hidden layer with 32 nodes taking input from 16 - one hot vector of a state\n",
        "    model.add(Dense(32, activation='relu')) #first hidden layer with 28 nodes taking input from the first dense layer\n",
        "    model.add(Dense(4, activation='linear')) #output layers has q value for 4 actions\n",
        "    model.compile(loss = 'mse', optimizer = Adam(learning_rate=0.001))\n",
        "    return model\n",
        "\n",
        "  def store(self, state, action, reward, next_state, done):\n",
        "   self.replay_mem.append((state, action, reward, next_state, done))\n",
        "\n",
        "  def act(self, state, eval = False):\n",
        "\n",
        "      rand_num = np.random.random()\n",
        "      if self.epsilon > rand_num and eval == False:\n",
        "        return np.random.choice(self.actions)\n",
        "      else:\n",
        "        action_values = self.policy_model.predict(state)\n",
        "        return np.argmax(action_values[0])\n",
        "\n",
        "  def replay(self, batch_size):\n",
        "\n",
        "    if len(self.replay_mem) < batch_size:\n",
        "      return\n",
        "    \n",
        "    minibatch = random.sample(self.replay_mem, batch_size)\n",
        "    temp_states = np.array([sample[0] for sample in minibatch])\n",
        "    temp_next_states = np.array([sample[3] for sample in minibatch])\n",
        "\n",
        "    policy_qvals = self.policy_model.predict(temp_states.reshape(-1, env.observation_space.n))\n",
        "    target_qvals = self.target_model.predict(temp_next_states.reshape(-1, env.observation_space.n))\n",
        "\n",
        "    X = []\n",
        "    y = []\n",
        "\n",
        "  \n",
        "    for index, (s0, action, reward, s1, done) in enumerate(minibatch):\n",
        "\n",
        "      if not done:    \n",
        "         y_target = reward + self.discount_rate * np.max(target_qvals[index])\n",
        "\n",
        "      else:\n",
        "         y_target = reward\n",
        "\n",
        "      q_val = policy_qvals[index]\n",
        "      q_val[action] = y_target\n",
        "\n",
        "      X.append(s0)\n",
        "      y.append(q_val)\n",
        "\n",
        "    self.policy_model.fit(np.array(X).reshape(-1, env.observation_space.n), np.array(y), batch_size = batch_size, verbose = 0)\n",
        "\n",
        "\n",
        "  def sync_weights(self):\n",
        "    self.target_model.set_weights(self.policy_model.get_weights()) \n",
        "\n",
        "\n",
        "#Main details:\n",
        "states_map = {(0,0): 0, (0,1): 1, (0,2): 2, (0,3): 3,\n",
        "                  (1,0): 4, (1,1): 5, (1,2): 6, (1,3): 7,\n",
        "                  (2,0): 8, (2,1): 9, (2,2): 10, (2,3): 11,\n",
        "                  (3,0): 12, (3,1): 13, (3,2): 14, (3,3): 15}\n",
        "\n",
        "actions = [0,1,2,3]\n",
        "\n",
        "states = [x for x in range(env.observation_space.n)]\n",
        "\n",
        "states = tf.keras.utils.to_categorical(states)\n",
        "\n",
        "agent = DQN_algo(states, actions)\n",
        "\n",
        "episodes = 2500 #Num of episodes\n",
        "batch_size = 128 #Minibatch size\n",
        "c = 5 #sync weights every 2 episodes\n",
        "epsilon_decay = (0.001/1)**(1/episodes)\n",
        "rewards = []\n",
        "epsilon_values = []\n",
        "target = [3,3]\n",
        "previous = [0,0]\n",
        "\n",
        "optimal = []\n",
        "last_rewards = []\n",
        "eval_episodes = episodes - 10\n",
        "\n",
        "for episode in range(1, episodes+1):\n",
        "  obs = env.reset()\n",
        "  total_reward = 0\n",
        "  state = states[0]\n",
        "  state = state.reshape(-1, 16)\n",
        "  timesteps = 0\n",
        "  done = False\n",
        "\n",
        "  while timesteps < 15 and done == False: #timesteps\n",
        "\n",
        "   \n",
        "    action = agent.act(state)\n",
        "    reward, next_state_pos, done = env.step(action, deterministic = True)\n",
        "\n",
        "    next_state = states[states_map[tuple(next_state_pos)]]\n",
        "    next_state = next_state.reshape(-1, 16)\n",
        "\n",
        "    # if state.all() == next_state.all(): #stays at same place\n",
        "    if list(state[0]).index(1) == list(next_state[0]).index(1) or reward <= 1:\n",
        "       reward = reward - 2\n",
        "\n",
        "    # previous = next_state_pos\n",
        "\n",
        "    agent.store(state, action, reward, next_state, done)\n",
        "    total_reward = total_reward + reward\n",
        "    timesteps += 1\n",
        "\n",
        "    if timesteps == 5:\n",
        "      agent.replay(batch_size)  #training the model\n",
        "    state = next_state #new\n",
        "\n",
        "    #end of timesteps or terminal reached\n",
        "\n",
        "  if episode % c == 0:\n",
        "      agent.sync_weights()\n",
        "   \n",
        "  if agent.epsilon > 0.001:\n",
        "      agent.epsilon *= epsilon_decay\n",
        "  else:\n",
        "    agent.epsilon = 0.001\n",
        "\n",
        "  #after every episode\n",
        "  epsilon_values.append(agent.epsilon)\n",
        "  rewards.append(total_reward)\n",
        "\n",
        "\n",
        "  if episode % (episodes//20) == 0 or episode == 1:\n",
        "    print(\"Episode: {}, total_reward: {}\".format(episode, total_reward))\n",
        "\n",
        "\n",
        "#plotting\n",
        "x = [episode for episode in range(1, episodes+1)]\n",
        "y_e = epsilon_values \n",
        "y_r = rewards\n",
        "\n",
        "#Plots showing episodes vs epsilon, episodes vs rewards\n",
        "fig, (ax1, ax2) = plt.subplots(1, 2, figsize=(10,4))\n",
        "#episodes vs epsilon\n",
        "ax1.plot(x, y_e)\n",
        "ax1.set_title(\"Epsilon decay\")\n",
        "\n",
        "\n",
        "#episodes vs rewards\n",
        "ax2.plot(x,y_r)\n",
        "ax2.set_title(\"Rewards per episode\")\n",
        "\n"
      ],
      "metadata": {
        "colab": {
          "base_uri": "https://localhost:8080/",
          "height": 923
        },
        "id": "R1s8wtzwqgcO",
        "outputId": "fa423b39-4a70-4c8c-e22c-9187d5f66ec0"
      },
      "execution_count": null,
      "outputs": [
        {
          "output_type": "stream",
          "name": "stdout",
          "text": [
            "Model: \"sequential_2\"\n",
            "_________________________________________________________________\n",
            " Layer (type)                Output Shape              Param #   \n",
            "=================================================================\n",
            " dense_6 (Dense)             (None, 64)                1088      \n",
            "                                                                 \n",
            " dense_7 (Dense)             (None, 32)                2080      \n",
            "                                                                 \n",
            " dense_8 (Dense)             (None, 4)                 132       \n",
            "                                                                 \n",
            "=================================================================\n",
            "Total params: 3,300\n",
            "Trainable params: 3,300\n",
            "Non-trainable params: 0\n",
            "_________________________________________________________________\n",
            "Episode: 1, total_reward: -33\n",
            "Episode: 125, total_reward: -4\n",
            "Episode: 250, total_reward: 134\n",
            "Episode: 375, total_reward: 130\n",
            "Episode: 500, total_reward: -31\n",
            "Episode: 625, total_reward: 140\n",
            "Episode: 750, total_reward: 132\n",
            "Episode: 875, total_reward: 145\n",
            "Episode: 1000, total_reward: 145\n",
            "Episode: 1125, total_reward: 143\n",
            "Episode: 1250, total_reward: 145\n",
            "Episode: 1375, total_reward: 143\n",
            "Episode: 1500, total_reward: 145\n",
            "Episode: 1625, total_reward: 145\n",
            "Episode: 1750, total_reward: 145\n",
            "Episode: 1875, total_reward: 145\n",
            "Episode: 2000, total_reward: 145\n",
            "Episode: 2125, total_reward: 145\n",
            "Episode: 2250, total_reward: 145\n",
            "Episode: 2375, total_reward: -1\n",
            "Episode: 2500, total_reward: 145\n"
          ]
        },
        {
          "output_type": "execute_result",
          "data": {
            "text/plain": [
              "Text(0.5, 1.0, 'Rewards per episode')"
            ]
          },
          "metadata": {},
          "execution_count": 18
        },
        {
          "output_type": "display_data",
          "data": {
            "text/plain": [
              "<Figure size 720x288 with 2 Axes>"
            ],
            "image/png": "[encoded data removed]"
          },
          "metadata": {
            "needs_background": "light"
          }
        }
      ]
    },
    {
      "cell_type": "code",
      "source": [
        "#Evaluation Results\n",
        "\n",
        "rewards = []\n",
        "optimal = []\n",
        "for episode in range(1, 11):\n",
        "  obs = env.reset()\n",
        "  reward_val = 0\n",
        "  state = states[0]\n",
        "  state = state.reshape(-1, 16)\n",
        "  timesteps = 0\n",
        "  done = False\n",
        "\n",
        "  while timesteps < 15 and done == False: #timesteps\n",
        "\n",
        "    action = agent.act(state, eval = True)\n",
        "    action = agent.act(state)\n",
        "    reward, next_state_pos, done = env.step(action, deterministic = True)\n",
        "\n",
        "    next_state = states[states_map[tuple(next_state_pos)]]\n",
        "    next_state = next_state.reshape(-1, 16)\n",
        "\n",
        "    reward_val += reward    \n",
        "    timesteps += 1\n",
        "\n",
        "    if episode == 10:\n",
        "      optimal.append(list(state[0]).index(1) + 1)\n",
        "      if next_state_pos[0] == 3 and next_state_pos[1] == 3:\n",
        "        optimal.append(16)\n",
        "\n",
        "    state = next_state #new\n",
        "\n",
        "  #after every episode\n",
        "  rewards.append(reward_val)\n",
        "  print(\"Episode: {}, Total Reward: {}\".format(episode, reward_val))\n",
        "\n",
        "\n",
        "print(\"Optimal Path: \")\n",
        "for i in optimal:\n",
        "  print(i,\"->\", end = \" \")\n",
        "\n",
        "#Plots showing episodes vs rewards\n",
        "x = [episode for episode in range(1, 11)]\n",
        "y_r = rewards\n",
        "\n",
        "plt.plot(x, y_r)\n",
        "plt.title(\"Rewards per episode\")"
      ],
      "metadata": {
        "id": "ba85HLCPw3vQ",
        "colab": {
          "base_uri": "https://localhost:8080/",
          "height": 490
        },
        "outputId": "64899ac4-c5de-4331-e165-a97ba339786e"
      },
      "execution_count": null,
      "outputs": [
        {
          "output_type": "stream",
          "name": "stdout",
          "text": [
            "Episode: 1, Total Reward: 153\n",
            "Episode: 2, Total Reward: 153\n",
            "Episode: 3, Total Reward: 153\n",
            "Episode: 4, Total Reward: 153\n",
            "Episode: 5, Total Reward: 153\n",
            "Episode: 6, Total Reward: 153\n",
            "Episode: 7, Total Reward: 153\n",
            "Episode: 8, Total Reward: 153\n",
            "Episode: 9, Total Reward: 153\n",
            "Episode: 10, Total Reward: 153\n",
            "Optimal Path: \n",
            "1 -> 5 -> 9 -> 13 -> 14 -> 15 -> 16 -> "
          ]
        },
        {
          "output_type": "execute_result",
          "data": {
            "text/plain": [
              "Text(0.5, 1.0, 'Rewards per episode')"
            ]
          },
          "metadata": {},
          "execution_count": 19
        },
        {
          "output_type": "display_data",
          "data": {
            "text/plain": [
              "<Figure size 432x288 with 1 Axes>"
            ],
            "image/png": "[encoded data removed]"
          },
          "metadata": {
            "needs_background": "light"
          }
        }
      ]
    },
    {
      "cell_type": "code",
      "source": [
        "q_policy = agent.policy_model.predict(np.asarray(test_states).reshape(-1,env.observation_space.n))\n",
        "q_target = agent.target_model.predict(np.asarray(test_states).reshape(-1, env.observation_space.n))\n",
        "q_policy[15][:] = 0\n",
        "q_target[15][:] = 0\n",
        "print(\"After syncing weight: \\n\")\n",
        "print(\"Q Policy Network: \", q_policy)\n",
        "print(\"\\n\")\n",
        "print(\"Q Target Network: \", q_target)"
      ],
      "metadata": {
        "colab": {
          "base_uri": "https://localhost:8080/"
        },
        "id": "K2MLWyoT6xwq",
        "outputId": "5d68b501-ee1a-4c9b-99d1-df664d6baffb"
      },
      "execution_count": null,
      "outputs": [
        {
          "output_type": "stream",
          "name": "stdout",
          "text": [
            "After syncing weight: \n",
            "\n",
            "Q Policy Network:  [[142.49237 138.38773 140.1182  139.72516]\n",
            " [138.03001 134.36235 139.37729 135.76157]\n",
            " [140.98224 135.88942 141.18628 136.77345]\n",
            " [144.6861  134.8353  140.57576 138.04823]\n",
            " [141.14383 135.93399 137.40475 137.38742]\n",
            " [139.34987 136.54463 141.47319 138.55681]\n",
            " [142.96642 136.5241  145.42633 139.08308]\n",
            " [147.70804 137.50888 141.40886 140.23495]\n",
            " [143.06784 137.6659  140.02457 140.46524]\n",
            " [144.32822 138.36226 144.20483 141.71915]\n",
            " [147.49847 137.99132 148.50528 141.45941]\n",
            " [150.90329 134.07047 138.78954 139.07718]\n",
            " [145.36412 143.47815 147.11334 144.63907]\n",
            " [145.32564 141.19962 149.2193  145.06976]\n",
            " [147.3869  137.02962 150.80907 141.48325]\n",
            " [  0.        0.        0.        0.     ]]\n",
            "\n",
            "\n",
            "Q Target Network:  [[142.49237 138.38773 140.1182  139.72516]\n",
            " [138.03001 134.36235 139.37729 135.76157]\n",
            " [140.98224 135.88942 141.18628 136.77345]\n",
            " [144.6861  134.8353  140.57576 138.04823]\n",
            " [141.14383 135.93399 137.40475 137.38742]\n",
            " [139.34987 136.54463 141.47319 138.55681]\n",
            " [142.96642 136.5241  145.42633 139.08308]\n",
            " [147.70804 137.50888 141.40886 140.23495]\n",
            " [143.06784 137.6659  140.02457 140.46524]\n",
            " [144.32822 138.36226 144.20483 141.71915]\n",
            " [147.49847 137.99132 148.50528 141.45941]\n",
            " [150.90329 134.07047 138.78954 139.07718]\n",
            " [145.36412 143.47815 147.11334 144.63907]\n",
            " [145.32564 141.19962 149.2193  145.06976]\n",
            " [147.3869  137.02962 150.80907 141.48325]\n",
            " [  0.        0.        0.        0.     ]]\n"
          ]
        }
      ]
    },
    {
      "cell_type": "markdown",
      "source": [
        "#Part III"
      ],
      "metadata": {
        "id": "jX59fxrMw74-"
      }
    },
    {
      "cell_type": "markdown",
      "source": [
        "##Double DQN Algorithm"
      ],
      "metadata": {
        "id": "rGq5ZPpVrNzg"
      }
    },
    {
      "cell_type": "code",
      "source": [
        "# Double DQN Algorithm\n",
        "\n",
        "class DDQN_algo:\n",
        "\n",
        "  def __init__(self, states, actions):\n",
        "    self.states = states\n",
        "    self.actions = actions\n",
        "    self.replay_mem = deque(maxlen = 2000)\n",
        "\n",
        "    self.discount_rate = 0.99\n",
        "    self.epsilon = 1\n",
        "    self.t = 0.01\n",
        "\n",
        "    #Policy and target networks\n",
        "    self.policy_model = self.nnmodel()\n",
        "    self.target_model = self.nnmodel()\n",
        "\n",
        "    self.target_model.set_weights(self.policy_model.get_weights())\n",
        "    self.policy_model.summary()\n",
        "\n",
        "  def nnmodel(self):\n",
        "\n",
        "    with tf.device('/device:GPU:0'):\n",
        "      model = Sequential()\n",
        "\n",
        "      model.add(Dense(64, activation='relu', input_dim = 16)) #first hidden layer with 32 nodes taking input from 16 - one hot vector of a state\n",
        "      model.add(Dense(32, activation='relu')) #first hidden layer with 28 nodes taking input from the first dense layer\n",
        "      model.add(Dense(4, activation='linear')) #output layers has q value for 4 actions\n",
        "      model.compile(loss = 'mse', optimizer = Adam(learning_rate=0.001))\n",
        "      return model\n",
        "\n",
        "  def store(self, state, action, reward, next_state, done):\n",
        "   self.replay_mem.append((state, action, reward, next_state, done))\n",
        "\n",
        "  def act(self, state, eval = False):\n",
        "\n",
        "    with tf.device('/device:GPU:0'):\n",
        "      rand_num = np.random.random()\n",
        "      if self.epsilon > rand_num and eval == False:\n",
        "        return np.random.choice(self.actions)\n",
        "      else:\n",
        "        action_values = self.policy_model.predict(state)\n",
        "        return np.argmax(action_values[0])\n",
        "\n",
        "  def replay(self, batch_size):\n",
        "\n",
        "    if len(self.replay_mem) < batch_size:\n",
        "      return\n",
        "    with tf.device('/device:GPU:0'):\n",
        "      minibatch = random.sample(self.replay_mem, batch_size)\n",
        "      \n",
        "      temp_states = np.array([sample[0] for sample in minibatch])\n",
        "      temp_next_states = np.array([sample[3] for sample in minibatch])\n",
        "\n",
        "      policy_qvals = self.policy_model.predict(temp_states.reshape(-1, env.observation_space.n))\n",
        "      target_qvals = self.target_model.predict(temp_next_states.reshape(-1, env.observation_space.n))\n",
        "\n",
        "      X = []\n",
        "      y = []\n",
        "\n",
        "    \n",
        "      for index, (s0, action, reward, s1, done) in enumerate(minibatch):\n",
        "\n",
        "        if not done:\n",
        "          action_val = np.argmax(policy_qvals[index])\n",
        "          y_target = reward + self.discount_rate*target_qvals[index][action_val]\n",
        "\n",
        "        else:\n",
        "          y_target = reward\n",
        "\n",
        "        q_val = policy_qvals[index]\n",
        "        q_val[action] = y_target\n",
        "\n",
        "        X.append(s0)\n",
        "        y.append(q_val)\n",
        "\n",
        "      self.policy_model.fit(np.array(X).reshape(-1, env.observation_space.n), np.array(y), batch_size = batch_size, verbose = 0)\n",
        "\n",
        "\n",
        "  def sync_weights(self):\n",
        "\n",
        "    for target_param, param in zip(self.target_model.trainable_variables, self.policy_model.trainable_variables):\n",
        "        target_param.assign(self.t * param + (1 - self.t) * target_param)\n",
        "\n",
        "    # self.target_model.set_weights(self.t * self.policy_model.get_weights() + (1-self.t) * self.target_model.get_weights) \n",
        "\n",
        "\n",
        "#Main details:\n",
        "states_map = {(0,0): 0, (0,1): 1, (0,2): 2, (0,3): 3,\n",
        "                  (1,0): 4, (1,1): 5, (1,2): 6, (1,3): 7,\n",
        "                  (2,0): 8, (2,1): 9, (2,2): 10, (2,3): 11,\n",
        "                  (3,0): 12, (3,1): 13, (3,2): 14, (3,3): 15}\n",
        "\n",
        "actions = [0,1,2,3]\n",
        "\n",
        "states = [x for x in range(env.observation_space.n)]\n",
        "\n",
        "states = tf.keras.utils.to_categorical(states)\n",
        "\n",
        "agent = DDQN_algo(states, actions)\n",
        "\n",
        "with tf.device('/device:GPU:0'):\n",
        "  episodes = 500 #Num of episodes 2500 worked best try 1000: 250 gave diff optimal\n",
        "  batch_size = 128 #Minibatch size\n",
        "  c = 5 #sync weights every 2 episodes\n",
        "  rewards = []\n",
        "  epsilon_values = []\n",
        "  \n",
        "  epsilon_decay = (0.001/1)**(1/episodes)\n",
        "  target = np.array([3,3])\n",
        "\n",
        "  for episode in range(1, episodes+1):\n",
        "    obs = env.reset()\n",
        "    total_reward = 0\n",
        "    state = states[0]\n",
        "    state = state.reshape(-1, 16)\n",
        "    timesteps = 0\n",
        "    optimal = []\n",
        "    val = []\n",
        "    # previous = np.array([0,0])\n",
        "    done = False\n",
        "\n",
        "    while timesteps < 15 and done == False: #timesteps\n",
        "\n",
        "      action = agent.act(state)\n",
        "      reward, next_state_pos, done = env.step(action, deterministic = True)\n",
        "      \n",
        "      next_state = states[states_map[tuple(next_state_pos)]]\n",
        "      next_state = next_state.reshape(-1, 16)\n",
        "\n",
        "  \n",
        "      if list(state[0]).index(1) == list(next_state[0]).index(1): #same state\n",
        "        reward = reward - 2  #before -1\n",
        "\n",
        "      if np.linalg.norm(target - np.array(next_state_pos)) <= 1:\n",
        "        reward = reward + 5  #before +1, 5 is good\n",
        "      \n",
        "\n",
        "      agent.store(state, action, reward, next_state, done)\n",
        "      timesteps += 1\n",
        "      total_reward += reward\n",
        "\n",
        "      if timesteps == 5:\n",
        "        agent.replay(batch_size)  #training the model\n",
        "      state = next_state #new\n",
        "\n",
        "      #end of timesteps or terminal reached\n",
        "\n",
        "    #after every episode\n",
        "    if episode % c == 0:\n",
        "        agent.sync_weights()\n",
        "    \n",
        "    if agent.epsilon > 0.001:\n",
        "        agent.epsilon *= epsilon_decay\n",
        "    else:\n",
        "        agent.epsilon = 0.001\n",
        "\n",
        "    \n",
        "    epsilon_values.append(agent.epsilon)\n",
        "    rewards.append(total_reward)\n",
        "\n",
        "    if episode % (episodes//20) == 0 or episode == 1:\n",
        "      print(\"Episode: {}, total_reward: {}\".format(episode, total_reward))\n",
        "\n",
        "\n",
        "  #plotting\n",
        "  x = [episode for episode in range(1, episodes+1)]\n",
        "  y_e = epsilon_values \n",
        "  y_r = rewards\n",
        "\n",
        "  #Plots showing episodes vs epsilon, episodes vs rewards\n",
        "  fig, (ax1, ax2) = plt.subplots(1, 2, figsize=(10,4))\n",
        "  #episodes vs epsilon\n",
        "  ax1.plot(x, y_e)\n",
        "  ax1.set_title(\"Epsilon decay\")\n",
        "\n",
        "\n",
        "  #episodes vs rewards\n",
        "  ax2.plot(x,y_r)\n",
        "  ax2.set_title(\"Rewards per episode\")\n",
        "\n",
        "  #time taken: faster"
      ],
      "metadata": {
        "colab": {
          "base_uri": "https://localhost:8080/",
          "height": 906
        },
        "outputId": "9236bc7e-b48e-4342-e4fd-744a00232618",
        "id": "kRdy3ZmPrNzi"
      },
      "execution_count": null,
      "outputs": [
        {
          "output_type": "stream",
          "name": "stdout",
          "text": [
            "Model: \"sequential_18\"\n",
            "_________________________________________________________________\n",
            " Layer (type)                Output Shape              Param #   \n",
            "=================================================================\n",
            " dense_54 (Dense)            (None, 64)                1088      \n",
            "                                                                 \n",
            " dense_55 (Dense)            (None, 32)                2080      \n",
            "                                                                 \n",
            " dense_56 (Dense)            (None, 4)                 132       \n",
            "                                                                 \n",
            "=================================================================\n",
            "Total params: 3,300\n",
            "Trainable params: 3,300\n",
            "Non-trainable params: 0\n",
            "_________________________________________________________________\n",
            "Episode: 1, total_reward: 164\n",
            "Episode: 25, total_reward: 6\n",
            "Episode: 50, total_reward: 155\n",
            "Episode: 75, total_reward: 161\n",
            "Episode: 100, total_reward: -17\n",
            "Episode: 125, total_reward: -13\n",
            "Episode: 150, total_reward: 160\n",
            "Episode: 175, total_reward: 163\n",
            "Episode: 200, total_reward: 163\n",
            "Episode: 225, total_reward: 160\n",
            "Episode: 250, total_reward: 163\n",
            "Episode: 275, total_reward: 169\n",
            "Episode: 300, total_reward: 162\n",
            "Episode: 325, total_reward: 163\n",
            "Episode: 350, total_reward: 163\n",
            "Episode: 375, total_reward: 163\n",
            "Episode: 400, total_reward: 163\n",
            "Episode: 425, total_reward: 163\n",
            "Episode: 450, total_reward: 163\n",
            "Episode: 475, total_reward: 163\n",
            "Episode: 500, total_reward: 163\n"
          ]
        },
        {
          "output_type": "display_data",
          "data": {
            "text/plain": [
              "<Figure size 720x288 with 2 Axes>"
            ],
            "image/png": "[encoded data removed]"
          },
          "metadata": {
            "needs_background": "light"
          }
        }
      ]
    },
    {
      "cell_type": "code",
      "source": [
        "#Evaluation Results\n",
        "\n",
        "rewards = []\n",
        "optimal = []\n",
        "for episode in range(1, 11):\n",
        "  obs = env.reset()\n",
        "  reward_val = 0\n",
        "  state = states[0]\n",
        "  state = state.reshape(-1, 16)\n",
        "  timesteps = 0\n",
        "  done = False\n",
        "\n",
        "  while timesteps < 15 and done == False: #timesteps\n",
        "\n",
        "    action = agent.act(state, eval = True)\n",
        "    action = agent.act(state)\n",
        "    reward, next_state_pos, done = env.step(action, deterministic = True)\n",
        "\n",
        "    next_state = states[states_map[tuple(next_state_pos)]]\n",
        "    next_state = next_state.reshape(-1, 16)\n",
        "\n",
        "    reward_val += reward    \n",
        "    timesteps += 1\n",
        "\n",
        "    if episode == 10:\n",
        "      optimal.append(list(state[0]).index(1) + 1)\n",
        "      if next_state_pos[0] == 3 and next_state_pos[1] == 3:\n",
        "        optimal.append(16)\n",
        "\n",
        "    state = next_state #new\n",
        "\n",
        "  #after every episode\n",
        "  rewards.append(reward_val)\n",
        "  print(\"Episode: {}, Total Reward: {}\".format(episode, reward_val))\n",
        "\n",
        "\n",
        "print(\"Optimal Path: \")\n",
        "for i in optimal:\n",
        "  print(i,\"->\", end = \" \")\n",
        "\n",
        "#Plots showing episodes vs rewards\n",
        "x = [episode for episode in range(1, 11)]\n",
        "y_r = rewards\n",
        "\n",
        "plt.plot(x, y_r)\n",
        "plt.title(\"Rewards per episode\")"
      ],
      "metadata": {
        "colab": {
          "base_uri": "https://localhost:8080/",
          "height": 490
        },
        "outputId": "b64f477b-e912-4119-f45d-7fe9d8e040da",
        "id": "jUGiTpaXrNzl"
      },
      "execution_count": null,
      "outputs": [
        {
          "output_type": "stream",
          "name": "stdout",
          "text": [
            "Episode: 1, Total Reward: 153\n",
            "Episode: 2, Total Reward: 153\n",
            "Episode: 3, Total Reward: 153\n",
            "Episode: 4, Total Reward: 153\n",
            "Episode: 5, Total Reward: 153\n",
            "Episode: 6, Total Reward: 153\n",
            "Episode: 7, Total Reward: 153\n",
            "Episode: 8, Total Reward: 153\n",
            "Episode: 9, Total Reward: 153\n",
            "Episode: 10, Total Reward: 153\n",
            "Optimal Path: \n",
            "1 -> 5 -> 9 -> 13 -> 14 -> 15 -> 16 -> "
          ]
        },
        {
          "output_type": "execute_result",
          "data": {
            "text/plain": [
              "Text(0.5, 1.0, 'Rewards per episode')"
            ]
          },
          "metadata": {},
          "execution_count": 37
        },
        {
          "output_type": "display_data",
          "data": {
            "text/plain": [
              "<Figure size 432x288 with 1 Axes>"
            ],
            "image/png": "[encoded data removed]"
          },
          "metadata": {
            "needs_background": "light"
          }
        }
      ]
    },
    {
      "cell_type": "code",
      "source": [
        "q_policy = agent.policy_model.predict(np.asarray(test_states).reshape(-1,env.observation_space.n))\n",
        "q_target = agent.target_model.predict(np.asarray(test_states).reshape(-1, env.observation_space.n))\n",
        "q_policy[15][:] = 0\n",
        "q_target[15][:] = 0\n",
        "print(\"After syncing weight: \\n\")\n",
        "print(\"Q Policy Network: \", q_policy)\n",
        "print(\"\\n\")\n",
        "print(\"Q Target Network: \", q_target)\n",
        "#4 actions:  {0: down, 1: up, 2: right, 3: left}"
      ],
      "metadata": {
        "colab": {
          "base_uri": "https://localhost:8080/"
        },
        "outputId": "57e8f101-79ed-4730-b630-b15e048616f8",
        "id": "Iya6vH-prNzm"
      },
      "execution_count": null,
      "outputs": [
        {
          "output_type": "stream",
          "name": "stdout",
          "text": [
            "After syncing weight: \n",
            "\n",
            "Q Policy Network:  [[ 1.8441316e+00 -5.0909317e-01  8.2933724e-01 -8.0595589e-01]\n",
            " [ 2.4143901e-01 -5.0365937e-01  1.1909426e+00 -5.2610219e-01]\n",
            " [ 1.3856739e-02 -1.6216627e-01 -4.6003062e-01  3.7363744e-01]\n",
            " [ 4.5564790e+00 -3.7270457e-02  1.1932907e+00 -7.6527625e-01]\n",
            " [ 3.0801525e+00  5.1623434e-02  2.9376826e-01 -9.6890712e-01]\n",
            " [-4.8806623e-01  3.7519917e-01 -5.0151360e-01 -2.2815464e-01]\n",
            " [-1.7453083e+00  3.8703284e-01 -9.3956053e-01  3.8682747e-01]\n",
            " [ 2.5214766e+01  1.6909717e+00  1.8739552e+01  8.2859707e-01]\n",
            " [ 2.5914030e+00  8.8196290e-01  3.3833370e-01 -4.5983851e-02]\n",
            " [-4.3377236e-01  3.1803688e-01 -2.2075112e+00  2.2509067e-01]\n",
            " [ 2.3761450e+01  1.4112726e+00  2.3771786e+01  8.3931088e-01]\n",
            " [ 1.5515628e+02  5.1879826e+00  1.4981509e+02  3.1661425e+00]\n",
            " [ 7.9240215e-01  1.7529975e+00  4.4197531e+00  8.1009090e-01]\n",
            " [ 2.3717623e+01  1.9613642e+00  2.7346346e+01  2.0755515e+00]\n",
            " [ 1.3337373e+02  3.0036376e+00  1.5504010e+02  2.8800783e+00]\n",
            " [ 0.0000000e+00  0.0000000e+00  0.0000000e+00  0.0000000e+00]]\n",
            "\n",
            "\n",
            "Q Target Network:  [[ 1.0391145  -1.1097445   0.91563183 -0.5526222 ]\n",
            " [ 0.7763463  -1.136654    1.0855913  -0.44648114]\n",
            " [ 1.606178   -0.83988124  1.1758804   0.04661449]\n",
            " [ 2.235707   -0.63368136  1.7089359  -0.5475267 ]\n",
            " [ 1.8695755  -0.71317667  1.3270065  -0.7363288 ]\n",
            " [ 1.2582219  -0.68125695  0.7243576  -0.3686889 ]\n",
            " [ 1.2341487  -0.30036494  0.9327512   0.03005178]\n",
            " [ 4.6937933  -0.41470256  2.7078314  -0.09254756]\n",
            " [ 2.116745   -0.4226662   0.9067728  -0.33499506]\n",
            " [ 0.66032344 -0.5530898   0.21170843 -0.22242841]\n",
            " [ 5.3569856  -0.37650248  5.1509967   0.08738903]\n",
            " [21.098082   -0.8460068  19.445274    0.956017  ]\n",
            " [ 0.6046611  -0.08215581  0.7394794   0.04248657]\n",
            " [ 2.8334482  -0.5743603   4.569403    0.9133239 ]\n",
            " [16.666332   -2.435265   22.918097    1.6292944 ]\n",
            " [ 0.          0.          0.          0.        ]]\n"
          ]
        }
      ]
    },
    {
      "cell_type": "code",
      "source": [
        ""
      ],
      "metadata": {
        "id": "UaXw3EVWrNzn"
      },
      "execution_count": null,
      "outputs": []
    },
    {
      "cell_type": "markdown",
      "source": [
        "##DQN on Cart Pole-v1"
      ],
      "metadata": {
        "id": "s-davGxQxMT5"
      }
    },
    {
      "cell_type": "code",
      "source": [
        "env = gym.make('CartPole-v1')\n",
        "env.reset()\n",
        "print(env.action_space)\n",
        "print(env.observation_space)"
      ],
      "metadata": {
        "colab": {
          "base_uri": "https://localhost:8080/"
        },
        "id": "8LeTf3MKxR0h",
        "outputId": "dd668d83-d4de-4a88-d5c0-95299792d2ea"
      },
      "execution_count": null,
      "outputs": [
        {
          "output_type": "stream",
          "name": "stdout",
          "text": [
            "Discrete(2)\n",
            "Box(-3.4028234663852886e+38, 3.4028234663852886e+38, (4,), float32)\n"
          ]
        }
      ]
    },
    {
      "cell_type": "code",
      "source": [
        "#DQN Algorithm\n",
        "\n",
        "class DQN_algocartpole:\n",
        "\n",
        "  def __init__(self):\n",
        "    self.env = gym.make('CartPole-v1')\n",
        "    self.states_size = self.env.observation_space.shape[0]\n",
        "    self.actions_size = self.env.action_space.n\n",
        "    self.replay_mem = deque(maxlen = 5000)\n",
        "\n",
        "    self.discount_rate = 0.99\n",
        "    self.epsilon = 1\n",
        "    \n",
        "    #Policy and target networks\n",
        "    self.policy_model = self.nnmodel()\n",
        "    self.target_model = self.nnmodel()\n",
        "\n",
        "    self.target_model.set_weights(self.policy_model.get_weights())\n",
        "    self.policy_model.summary()\n",
        "\n",
        "  def nnmodel(self):\n",
        "\n",
        "    model = Sequential()\n",
        "    model.add(Dense(32, activation='relu', input_dim = self.states_size)) #first hidden layer with 32 nodes taking input from 16 - one hot vector of a state\n",
        "    model.add(Dense(24, activation='relu')) #first hidden layer with 28 nodes taking input from the first dense layer\n",
        "    model.add(Dense(self.actions_size, activation='linear')) #output layers has q value for 4 actions\n",
        "    model.compile(loss = 'mse', optimizer = Adam(learning_rate=0.001))\n",
        "    return model\n",
        "\n",
        "  def store(self, state, action, reward, next_state, done):\n",
        "   self.replay_mem.append((state, action, reward, next_state, done))\n",
        "\n",
        "  def act(self, state, eval = False):\n",
        "\n",
        "      rand_num = np.random.random()\n",
        "      if self.epsilon > rand_num and eval == False:\n",
        "        return np.random.choice(agent.actions_size)\n",
        "      else:\n",
        "        action_values = self.policy_model.predict(state)\n",
        "        return np.argmax(action_values[0])\n",
        "\n",
        "  def replay(self, batch_size):\n",
        "\n",
        "    if len(self.replay_mem) < batch_size:\n",
        "      return\n",
        "    \n",
        "    minibatch = random.sample(self.replay_mem, batch_size)\n",
        "    temp_states = np.array([sample[0] for sample in minibatch])\n",
        "    temp_next_states = np.array([sample[3] for sample in minibatch])\n",
        "\n",
        "    policy_qvals = self.policy_model.predict(temp_states.reshape(-1, self.states_size))\n",
        "    target_qvals = self.target_model.predict(temp_next_states.reshape(-1, self.states_size))\n",
        "\n",
        "    X = []\n",
        "    y = []\n",
        "\n",
        "    for index, (s0, action, reward, s1, done) in enumerate(minibatch):\n",
        "\n",
        "      if not done:    \n",
        "         y_target = reward + self.discount_rate * np.max(target_qvals[index])\n",
        "      else:\n",
        "         y_target = reward\n",
        "\n",
        "      q_val = policy_qvals[index]\n",
        "      q_val[action] = y_target\n",
        "      X.append(s0)\n",
        "      y.append(q_val)\n",
        "\n",
        "    self.policy_model.fit(np.array(X).reshape(-1, self.states_size), np.array(y), batch_size = batch_size, verbose = 0)\n",
        "\n",
        "  def sync_weights(self):\n",
        "    self.target_model.set_weights(self.policy_model.get_weights()) \n",
        "\n",
        "\n",
        "#Agent declaration\n",
        "agent = DQN_algocartpole()\n",
        "\n",
        "episodes = 100 #Num of episodes: 100 worked best\n",
        "batch_size = 128 #Minibatch size\n",
        "c = 3 #sync weights every 3 episodes\n",
        "rewards = []\n",
        "epsilon_values = []\n",
        "epsilon_decay = (0.001/1)**(1/episodes)\n",
        "\n",
        "avg_reward = 0\n",
        "\n",
        "for episode in range(1, episodes+1):\n",
        "  \n",
        "  state = agent.env.reset()\n",
        "  reward_val = 0\n",
        "  timesteps = 0\n",
        "  state = np.reshape(state, [1, agent.states_size])\n",
        "  done = False\n",
        "\n",
        "  while done == False:\n",
        "\n",
        "   \n",
        "    action = agent.act(state)\n",
        "\n",
        "    next_state, reward, done, _ = agent.env.step(action)\n",
        "    next_state = np.reshape(next_state, [1, agent.states_size])\n",
        "\n",
        "    reward = -100*(abs(next_state[0,2]) - abs(state[0,2]))\n",
        "    agent.store(state, action, reward, next_state, done)\n",
        "\n",
        "    reward_val += 1\n",
        "    timesteps += 1\n",
        "    \n",
        "    if timesteps % 5 == 0:\n",
        "      agent.replay(batch_size)  #training the model\n",
        "\n",
        "    state = next_state #new\n",
        "\n",
        "    #end of timesteps or terminated\n",
        "\n",
        "\n",
        "  #after every episode\n",
        "  \n",
        "  if episode % c == 0:\n",
        "      agent.sync_weights()\n",
        "\n",
        "  if agent.epsilon > 0.001:\n",
        "      agent.epsilon *= epsilon_decay\n",
        "  else:\n",
        "      agent.epsilon = 0.001\n",
        "  \n",
        "  epsilon_values.append(agent.epsilon)\n",
        "  rewards.append(reward_val)\n",
        "  \n",
        "  #Average reward over last 10 episodes:\n",
        "  if episode >= 10:\n",
        "    avg_reward = np.sum(rewards[episode-10:])/10\n",
        "\n",
        "  if episode % (episodes//20) == 0 or episode == 1:\n",
        "    print(\"Episode: {}, Total reward: {}, Average reward: {}\".format(episode, reward_val, avg_reward))   \n",
        "\n",
        "  #Optimal reward checking\n",
        "  if avg_reward > 470:\n",
        "    print(\"Average above 470 Reached!!\")\n",
        "    break\n",
        "\n",
        "#plotting\n",
        "x = [e for e in range(1, episode+1)]\n",
        "y_e = epsilon_values \n",
        "y_r = rewards\n",
        "\n",
        "#Plots showing episodes vs epsilon, episodes vs rewards\n",
        "fig, (ax1, ax2) = plt.subplots(1, 2, figsize=(10,4))\n",
        "#episodes vs epsilon\n",
        "ax1.plot(x, y_e)\n",
        "ax1.set_title(\"Epsilon decay\")\n",
        "\n",
        "#episodes vs rewards\n",
        "ax2.plot(x,y_r)\n",
        "ax2.set_title(\"Rewards per episode\")\n",
        "\n"
      ],
      "metadata": {
        "colab": {
          "base_uri": "https://localhost:8080/",
          "height": 802
        },
        "outputId": "cdf281fa-95d8-4bd4-e074-788724579ee4",
        "id": "xDwSMlWczjuD"
      },
      "execution_count": null,
      "outputs": [
        {
          "output_type": "stream",
          "name": "stdout",
          "text": [
            "Model: \"sequential_14\"\n",
            "_________________________________________________________________\n",
            " Layer (type)                Output Shape              Param #   \n",
            "=================================================================\n",
            " dense_42 (Dense)            (None, 32)                160       \n",
            "                                                                 \n",
            " dense_43 (Dense)            (None, 24)                792       \n",
            "                                                                 \n",
            " dense_44 (Dense)            (None, 2)                 50        \n",
            "                                                                 \n",
            "=================================================================\n",
            "Total params: 1,002\n",
            "Trainable params: 1,002\n",
            "Non-trainable params: 0\n",
            "_________________________________________________________________\n",
            "Episode: 1, Total reward: 28, Average reward: 0\n",
            "Episode: 5, Total reward: 16, Average reward: 0\n",
            "Episode: 10, Total reward: 10, Average reward: 18.8\n",
            "Episode: 15, Total reward: 23, Average reward: 19.5\n",
            "Episode: 20, Total reward: 47, Average reward: 36.8\n",
            "Episode: 25, Total reward: 71, Average reward: 56.0\n",
            "Episode: 30, Total reward: 58, Average reward: 59.9\n",
            "Episode: 35, Total reward: 103, Average reward: 80.8\n",
            "Episode: 40, Total reward: 56, Average reward: 92.1\n",
            "Episode: 45, Total reward: 127, Average reward: 105.0\n",
            "Episode: 50, Total reward: 406, Average reward: 191.1\n",
            "Episode: 55, Total reward: 348, Average reward: 343.7\n",
            "Episode: 60, Total reward: 500, Average reward: 464.7\n",
            "Average above 470 Reached!!\n"
          ]
        },
        {
          "output_type": "execute_result",
          "data": {
            "text/plain": [
              "Text(0.5, 1.0, 'Rewards per episode')"
            ]
          },
          "metadata": {},
          "execution_count": 25
        },
        {
          "output_type": "display_data",
          "data": {
            "text/plain": [
              "<Figure size 720x288 with 2 Axes>"
            ],
            "image/png": "[encoded data removed]"
          },
          "metadata": {
            "needs_background": "light"
          }
        }
      ]
    },
    {
      "cell_type": "code",
      "source": [
        "#Evaluation Results\n",
        "rewards = []\n",
        "for episode in range(1, 11):\n",
        "  \n",
        "  state = agent.env.reset()\n",
        "  reward_val = 0\n",
        "  state = np.reshape(state, [1, agent.states_size])\n",
        "  done = False\n",
        "\n",
        "  while done == False:\n",
        "\n",
        "    action = agent.act(state, eval = True)\n",
        "\n",
        "    next_state, reward, done, _ = agent.env.step(action)\n",
        "    next_state = np.reshape(next_state, [1, agent.states_size])\n",
        "    reward_val += 1\n",
        "    state = next_state #new\n",
        "\n",
        "    #terminated\n",
        "  \n",
        "  #after every episode\n",
        "  rewards.append(reward_val)\n",
        "  print(\"Episode: {}, Total Reward: {}\".format(episode, reward_val))\n",
        "\n",
        "#Plots showing episodes vs rewards\n",
        "x = [episode for episode in range(1, 11)]\n",
        "y = rewards\n",
        "\n",
        "plt.plot(x, y)\n",
        "plt.title(\"Rewards per episode\")"
      ],
      "metadata": {
        "colab": {
          "base_uri": "https://localhost:8080/",
          "height": 472
        },
        "outputId": "e6d6087a-7d03-4926-a769-12d1e9bfc8fe",
        "id": "tfR5PAigzjuU"
      },
      "execution_count": null,
      "outputs": [
        {
          "output_type": "stream",
          "name": "stdout",
          "text": [
            "Episode: 1, Total Reward: 500\n",
            "Episode: 2, Total Reward: 500\n",
            "Episode: 3, Total Reward: 500\n",
            "Episode: 4, Total Reward: 500\n",
            "Episode: 5, Total Reward: 500\n",
            "Episode: 6, Total Reward: 500\n",
            "Episode: 7, Total Reward: 500\n",
            "Episode: 8, Total Reward: 500\n",
            "Episode: 9, Total Reward: 500\n",
            "Episode: 10, Total Reward: 500\n"
          ]
        },
        {
          "output_type": "execute_result",
          "data": {
            "text/plain": [
              "Text(0.5, 1.0, 'Rewards per episode')"
            ]
          },
          "metadata": {},
          "execution_count": 26
        },
        {
          "output_type": "display_data",
          "data": {
            "text/plain": [
              "<Figure size 432x288 with 1 Axes>"
            ],
            "image/png": "[encoded data removed]"
          },
          "metadata": {
            "needs_background": "light"
          }
        }
      ]
    },
    {
      "cell_type": "code",
      "source": [
        ""
      ],
      "metadata": {
        "id": "9-TiBptdCOlJ"
      },
      "execution_count": null,
      "outputs": []
    },
    {
      "cell_type": "markdown",
      "source": [
        "##DQN on Mountain Car-v0"
      ],
      "metadata": {
        "id": "S4E3mI-kanRP"
      }
    },
    {
      "cell_type": "code",
      "source": [
        "env = gym.make('MountainCar-v0')\n",
        "env.reset()\n",
        "print(env.action_space)\n",
        "print(env.observation_space)"
      ],
      "metadata": {
        "colab": {
          "base_uri": "https://localhost:8080/"
        },
        "id": "yIpF8TO9apyi",
        "outputId": "27278443-50b4-4492-e43c-db203a9baf3c"
      },
      "execution_count": null,
      "outputs": [
        {
          "output_type": "stream",
          "name": "stdout",
          "text": [
            "Discrete(3)\n",
            "Box(-1.2000000476837158, 0.6000000238418579, (2,), float32)\n"
          ]
        }
      ]
    },
    {
      "cell_type": "code",
      "source": [
        "start = timeit.timeit()\n",
        "tf.autograph.set_verbosity(0)\n",
        "tf.autograph.experimental.do_not_convert\n",
        "#DQN Algorithm on Mountain Car env\n",
        "\n",
        "class DQN_algomountaincar:\n",
        "\n",
        "  def __init__(self):\n",
        "    self.env = gym.make('MountainCar-v0')\n",
        "    self.states_size = self.env.observation_space.shape[0]\n",
        "    self.actions_size = self.env.action_space.n\n",
        "    self.replay_mem = deque(maxlen = 5000)\n",
        "\n",
        "    self.discount_rate = 0.99\n",
        "    self.epsilon = 1\n",
        "    \n",
        "    #Policy and target networks\n",
        "    self.policy_model = self.nnmodel()\n",
        "    self.target_model = self.nnmodel()\n",
        "\n",
        "    self.target_model.set_weights(self.policy_model.get_weights())\n",
        "    self.policy_model.summary()\n",
        "\n",
        "  def nnmodel(self):\n",
        "\n",
        "    with tf.device('/gpu:0'):\n",
        "      model = Sequential()\n",
        "      model.add(Dense(32, activation='relu', input_dim = self.states_size)) #first hidden layer with 32 nodes taking input from 16 - one hot vector of a state\n",
        "      model.add(Dense(24, activation='relu')) #first hidden layer with 28 nodes taking input from the first dense layer\n",
        "      model.add(Dense(self.actions_size, activation='linear')) #output layers has q value for 4 actions\n",
        "      model.compile(loss = 'mse', optimizer = Adam(learning_rate=0.001))\n",
        "      return model\n",
        "\n",
        "  def store(self, state, action, reward, next_state, done):\n",
        "   self.replay_mem.append((state, action, reward, next_state, done))\n",
        "\n",
        "  def act(self, state, eval = False):\n",
        "     with tf.device('/gpu:0'):\n",
        "       rand_num = np.random.random()\n",
        "       if self.epsilon > rand_num and eval == False:\n",
        "         return np.random.choice(agent.actions_size)\n",
        "       else:\n",
        "         action_values = self.policy_model.predict(state)\n",
        "         return np.argmax(action_values[0])\n",
        "\n",
        "  @tf.autograph.experimental.do_not_convert\n",
        "  def replay(self, batch_size):\n",
        "   \n",
        "    with tf.device('/gpu:0'):\n",
        "\n",
        "      if len(self.replay_mem) < batch_size:\n",
        "        return\n",
        "      \n",
        "      minibatch = random.sample(self.replay_mem, batch_size)\n",
        "      temp_states = np.array([sample[0] for sample in minibatch])\n",
        "      temp_next_states = np.array([sample[3] for sample in minibatch])\n",
        "\n",
        "      policy_qvals = self.policy_model.predict(temp_states.reshape(-1, self.states_size))\n",
        "      target_qvals = self.target_model.predict(temp_next_states.reshape(-1, self.states_size))\n",
        "\n",
        "      X = []\n",
        "      y = []\n",
        "\n",
        "      for index, (s0, action, reward, s1, done) in enumerate(minibatch):\n",
        "\n",
        "        if not done:    \n",
        "          y_target = reward + self.discount_rate * np.max(target_qvals[index])\n",
        "        else:\n",
        "          y_target = reward\n",
        "\n",
        "        q_val = policy_qvals[index]\n",
        "        q_val[action] = y_target\n",
        "        X.append(s0)\n",
        "        y.append(q_val)\n",
        "\n",
        "      self.policy_model.fit(np.array(X).reshape(-1, self.states_size), np.array(y), batch_size = batch_size, verbose = 0)\n",
        "\n",
        "  def sync_weights(self):\n",
        "    self.target_model.set_weights(self.policy_model.get_weights()) \n",
        "\n",
        "\n",
        "#Agent declaration\n",
        "agent = DQN_algomountaincar()\n",
        "\n",
        "episodes = 1000 #Num of episodes 1000\n",
        "batch_size = 128 #Minibatch size\n",
        "c = 3 #sync weights every 3 episodes\n",
        "rewards = []\n",
        "epsilon_values = []\n",
        "epsilon_decay = (0.001/1)**(1/episodes)\n",
        "\n",
        "avg_timesteps = 200\n",
        "avg_reward = -200\n",
        "total_timesteps = []\n",
        "\n",
        "for episode in range(1, episodes+1):\n",
        "  \n",
        "  state = agent.env.reset()\n",
        "  total_reward = 0\n",
        "  reward_val = 0\n",
        "  timesteps = 0\n",
        "  state = np.reshape(state, [1, agent.states_size])\n",
        "  done = False\n",
        "\n",
        "  while done == False:\n",
        "    \n",
        "    with tf.device('/gpu:0'):\n",
        "      action = agent.act(state)\n",
        "\n",
        "      next_state, reward, done, _ = agent.env.step(action)\n",
        "      reward_val = reward\n",
        "      next_state = np.reshape(next_state, [1, agent.states_size])\n",
        "\n",
        "      #different reward for faster convergence\n",
        "      reward = 100*((math.sin(3*next_state[0,0]) * 0.0025 + 0.5 * next_state[0,1] * next_state[0,1]) - (math.sin(3*state[0,0]) * 0.0025 + 0.5 * state[0,1] * state[0,1]))\n",
        "      \n",
        "      agent.store(state, action, reward, next_state, done)\n",
        "\n",
        "      timesteps += 1\n",
        "      total_reward += reward_val\n",
        "\n",
        "      if timesteps % 5 == 0:\n",
        "        agent.replay(batch_size)  #training the model\n",
        "\n",
        "      state = next_state #new\n",
        "\n",
        "    #end of timesteps or terminated\n",
        "    \n",
        "  #after every episode\n",
        "  \n",
        "  if episode % c == 0:\n",
        "      agent.sync_weights()\n",
        "\n",
        "  if agent.epsilon > 0.001:\n",
        "      agent.epsilon *= epsilon_decay\n",
        "  else:\n",
        "      agent.epsilon = 0.001\n",
        "  \n",
        "  epsilon_values.append(agent.epsilon)\n",
        "  rewards.append(total_reward)\n",
        "  total_timesteps.append(timesteps)\n",
        "  \n",
        "  #Average reward over last 10 episodes:\n",
        "  if episode >= 10:\n",
        "    avg_timesteps = np.sum(total_timesteps[episode-10:])/10\n",
        "    avg_reward = np.sum(rewards[episode-10:])/10\n",
        "\n",
        "  if episode % (episodes//20) == 0 or episode == 1:\n",
        "    print(\"Episode: {}, Average reward: {}, Average timesteps: {}\".format(episode, avg_reward, avg_timesteps))   \n",
        "\n",
        "  #Optimal timesteps checking #strict condition is avg_reward = -110 in 100 runs \n",
        "  if avg_reward > -110:\n",
        "    print(\"Car reached the top of the hill!!\")\n",
        "    break\n",
        "\n",
        "#plotting\n",
        "x = [e for e in range(1, episode+1)]\n",
        "y_e = epsilon_values \n",
        "y_t = total_timesteps\n",
        "y_r = rewards\n",
        "\n",
        "#Plots showing episodes vs epsilon, episodes vs rewards\n",
        "fig, (ax1, ax2, ax3) = plt.subplots(1, 3, figsize=(18,5))\n",
        "#episodes vs epsilon\n",
        "ax1.plot(x, y_e)\n",
        "ax1.set_title(\"Epsilon decay\")\n",
        "\n",
        "#episodes vs rewards\n",
        "ax2.plot(x, y_r)\n",
        "ax2.set_title(\"Rewards per episode\")\n",
        "\n",
        "#episodes vs timesteps\n",
        "ax3.plot(x,y_t)\n",
        "ax3.set_title(\"Timesteps per episode\")\n",
        "\n",
        "end = timeit.timeit()\n",
        "print(\"Time taken: \", end - start)\n",
        "#time taken: 1:30 for 500 episodes"
      ],
      "metadata": {
        "colab": {
          "base_uri": "https://localhost:8080/",
          "height": 891
        },
        "id": "lNrzpKsJbnFl",
        "outputId": "33fcb4ee-7d25-4db2-e56a-a9fe19df1b08"
      },
      "execution_count": null,
      "outputs": [
        {
          "output_type": "stream",
          "name": "stdout",
          "text": [
            "Model: \"sequential\"\n",
            "_________________________________________________________________\n",
            " Layer (type)                Output Shape              Param #   \n",
            "=================================================================\n",
            " dense (Dense)               (None, 32)                96        \n",
            "                                                                 \n",
            " dense_1 (Dense)             (None, 24)                792       \n",
            "                                                                 \n",
            " dense_2 (Dense)             (None, 3)                 75        \n",
            "                                                                 \n",
            "=================================================================\n",
            "Total params: 963\n",
            "Trainable params: 963\n",
            "Non-trainable params: 0\n",
            "_________________________________________________________________\n",
            "Episode: 1, Average reward: -200, Average timesteps: 200\n",
            "Episode: 50, Average reward: -200.0, Average timesteps: 200.0\n",
            "Episode: 100, Average reward: -200.0, Average timesteps: 200.0\n",
            "Episode: 150, Average reward: -174.1, Average timesteps: 174.1\n",
            "Episode: 200, Average reward: -165.7, Average timesteps: 165.7\n",
            "Episode: 250, Average reward: -132.3, Average timesteps: 132.3\n",
            "Episode: 300, Average reward: -148.0, Average timesteps: 148.0\n",
            "Episode: 350, Average reward: -155.1, Average timesteps: 155.1\n",
            "Episode: 400, Average reward: -185.7, Average timesteps: 185.7\n",
            "Episode: 450, Average reward: -169.4, Average timesteps: 169.4\n",
            "Episode: 500, Average reward: -131.5, Average timesteps: 131.5\n",
            "Episode: 550, Average reward: -159.4, Average timesteps: 159.4\n",
            "Episode: 600, Average reward: -123.3, Average timesteps: 123.3\n",
            "Episode: 650, Average reward: -113.2, Average timesteps: 113.2\n",
            "Episode: 700, Average reward: -131.1, Average timesteps: 131.1\n",
            "Car reached the top of the hill!!\n",
            "Time taken:  -0.003660373999764488\n"
          ]
        },
        {
          "output_type": "display_data",
          "data": {
            "text/plain": [
              "<Figure size 1296x360 with 3 Axes>"
            ],
            "image/png": "[encoded data removed]"
          },
          "metadata": {
            "needs_background": "light"
          }
        }
      ]
    },
    {
      "cell_type": "markdown",
      "source": [
        ""
      ],
      "metadata": {
        "id": "lkJ3dDYBpzyc"
      }
    },
    {
      "cell_type": "code",
      "source": [
        "#Evaluation Results\n",
        "total_timesteps = []\n",
        "rewards = []\n",
        "for episode in range(1, 11):\n",
        "  \n",
        "  state = agent.env.reset()\n",
        "  timesteps = 0\n",
        "  reward_val = 0\n",
        "  state = np.reshape(state, [1, agent.states_size])\n",
        "  done = False\n",
        "\n",
        "  while done == False:\n",
        "\n",
        "    action = agent.act(state, eval = True)\n",
        "\n",
        "    next_state, reward, done, _ = agent.env.step(action)\n",
        "    reward_val += reward\n",
        "    next_state = np.reshape(next_state, [1, agent.states_size])\n",
        "    timesteps += 1\n",
        "    state = next_state #new\n",
        "\n",
        "    #terminated\n",
        "  \n",
        "  #after every episode\n",
        "  rewards.append(reward_val)\n",
        "  total_timesteps.append(timesteps)\n",
        "  print(\"Episode: {}, Total Reward: {}, Timesteps: {}\".format(episode, reward_val, timesteps))\n",
        "\n",
        "#Plots showing episodes vs rewards\n",
        "x = [episode for episode in range(1, 11)]\n",
        "y_t = total_timesteps\n",
        "y_r = rewards\n",
        "\n",
        "fig, (ax1, ax2) = plt.subplots(1, 2, figsize=(10,4))\n",
        "#episodes vs reward\n",
        "ax1.plot(x, y_r)\n",
        "ax1.set_title(\"Rewards per episode\")\n",
        "\n",
        "#episodes vs rewards\n",
        "ax2.plot(x, y_t)\n",
        "ax2.set_title(\"Timesteps per episode\")"
      ],
      "metadata": {
        "id": "hSq_Aa9z9tmO",
        "colab": {
          "base_uri": "https://localhost:8080/",
          "height": 472
        },
        "outputId": "f4c582a5-03a8-48b8-b3a9-8816138095c7"
      },
      "execution_count": null,
      "outputs": [
        {
          "output_type": "stream",
          "name": "stdout",
          "text": [
            "Episode: 1, Total Reward: -87.0, Timesteps: 87\n",
            "Episode: 2, Total Reward: -163.0, Timesteps: 163\n",
            "Episode: 3, Total Reward: -87.0, Timesteps: 87\n",
            "Episode: 4, Total Reward: -139.0, Timesteps: 139\n",
            "Episode: 5, Total Reward: -154.0, Timesteps: 154\n",
            "Episode: 6, Total Reward: -166.0, Timesteps: 166\n",
            "Episode: 7, Total Reward: -89.0, Timesteps: 89\n",
            "Episode: 8, Total Reward: -153.0, Timesteps: 153\n",
            "Episode: 9, Total Reward: -135.0, Timesteps: 135\n",
            "Episode: 10, Total Reward: -149.0, Timesteps: 149\n"
          ]
        },
        {
          "output_type": "execute_result",
          "data": {
            "text/plain": [
              "Text(0.5, 1.0, 'Timesteps per episode')"
            ]
          },
          "metadata": {},
          "execution_count": 14
        },
        {
          "output_type": "display_data",
          "data": {
            "text/plain": [
              "<Figure size 720x288 with 2 Axes>"
            ],
            "image/png": "[encoded data removed]"
          },
          "metadata": {
            "needs_background": "light"
          }
        }
      ]
    },
    {
      "cell_type": "code",
      "source": [
        ""
      ],
      "metadata": {
        "id": "lt4qI1iwDSHu"
      },
      "execution_count": null,
      "outputs": []
    },
    {
      "cell_type": "markdown",
      "source": [
        "##Double DQN on Cart Pole-v1"
      ],
      "metadata": {
        "id": "oSWy7zztp9nV"
      }
    },
    {
      "cell_type": "code",
      "source": [
        "start = timeit.timeit()\n",
        "#Double DQN Algorithm\n",
        "class DDQN_algocartpole:\n",
        "\n",
        "  def __init__(self):\n",
        "    self.env = gym.make('CartPole-v1')\n",
        "    self.states_size = self.env.observation_space.shape[0]\n",
        "    self.actions_size = self.env.action_space.n\n",
        "    self.replay_mem = deque(maxlen = 5000)\n",
        "\n",
        "    self.discount_rate = 0.99\n",
        "    self.epsilon = 1\n",
        "    self.t = 0.01\n",
        "    \n",
        "    #Policy and target networks\n",
        "    self.policy_model = self.nnmodel()\n",
        "    self.target_model = self.nnmodel()\n",
        "\n",
        "    self.target_model.set_weights(self.policy_model.get_weights())\n",
        "    self.policy_model.summary()\n",
        "\n",
        "  def nnmodel(self):\n",
        "\n",
        "    model = Sequential()\n",
        "    model.add(Dense(32, activation='relu', input_dim = self.states_size)) #first hidden layer with 32 nodes taking input from 16 - one hot vector of a state\n",
        "    model.add(Dense(24, activation='relu')) #first hidden layer with 28 nodes taking input from the first dense layer\n",
        "    model.add(Dense(self.actions_size, activation='linear')) #output layers has q value for 4 actions\n",
        "    model.compile(loss = 'mse', optimizer = Adam(learning_rate=0.001))\n",
        "    return model\n",
        "\n",
        "  def store(self, state, action, reward, next_state, done):\n",
        "   self.replay_mem.append((state, action, reward, next_state, done))\n",
        "\n",
        "  def act(self, state, eval = False):\n",
        "\n",
        "      rand_num = np.random.random()\n",
        "      if self.epsilon > rand_num and eval == False:\n",
        "        return np.random.choice(agent.actions_size)\n",
        "      else:\n",
        "        action_values = self.policy_model.predict(state)\n",
        "        return np.argmax(action_values[0])\n",
        "\n",
        "  def replay(self, batch_size):\n",
        "\n",
        "    if len(self.replay_mem) < batch_size:\n",
        "      return\n",
        "    \n",
        "    minibatch = random.sample(self.replay_mem, batch_size)\n",
        "    temp_states = np.array([sample[0] for sample in minibatch])\n",
        "    temp_next_states = np.array([sample[3] for sample in minibatch])\n",
        "\n",
        "    policy_qvals = self.policy_model.predict(temp_states.reshape(-1, self.states_size))\n",
        "    target_qvals = self.target_model.predict(temp_next_states.reshape(-1, self.states_size))\n",
        "\n",
        "    X = []\n",
        "    y = []\n",
        "\n",
        "    for index, (s0, action, reward, s1, done) in enumerate(minibatch):\n",
        "\n",
        "      if not done:    \n",
        "         action_val = np.argmax(policy_qvals[index])\n",
        "         y_target = reward + self.discount_rate*target_qvals[index][action_val]\n",
        "\n",
        "      else:\n",
        "         y_target = reward\n",
        "\n",
        "      q_val = policy_qvals[index]\n",
        "      q_val[action] = y_target\n",
        "      X.append(s0)\n",
        "      y.append(q_val)\n",
        "\n",
        "    self.policy_model.fit(np.array(X).reshape(-1, self.states_size), np.array(y), batch_size = batch_size, verbose = 0)\n",
        "\n",
        "  def sync_weights(self):\n",
        "    for target_param, param in zip(self.target_model.trainable_variables, self.policy_model.trainable_variables):\n",
        "        target_param.assign(self.t * param + (1 - self.t) * target_param)\n",
        "\n",
        "\n",
        "#Agent declaration\n",
        "agent = DDQN_algocartpole()\n",
        "\n",
        "episodes = 1000 #Num of episodes: 100 worked good for DQN on cart\n",
        "batch_size = 128 #Minibatch size\n",
        "c = 3 #sync weights every 3 episodes\n",
        "rewards = []\n",
        "epsilon_values = []\n",
        "epsilon_decay = (0.01/1)**(1/episodes)\n",
        "\n",
        "avg_reward = 0\n",
        "\n",
        "for episode in range(1, episodes+1):\n",
        "  \n",
        "  state = agent.env.reset()\n",
        "  reward_val = 0\n",
        "  timesteps = 0\n",
        "  state = np.reshape(state, [1, agent.states_size])\n",
        "  done = False\n",
        "\n",
        "  while done == False:\n",
        "\n",
        "   \n",
        "    action = agent.act(state)\n",
        "\n",
        "    next_state, reward, done, _ = agent.env.step(action)\n",
        "    next_state = np.reshape(next_state, [1, agent.states_size])\n",
        "\n",
        "    reward = -100*(abs(next_state[0,2]) - abs(state[0,2]))\n",
        "    agent.store(state, action, reward, next_state, done)\n",
        "\n",
        "    reward_val += 1\n",
        "    timesteps += 1\n",
        "    \n",
        "    if timesteps % 5 == 0:\n",
        "      agent.replay(batch_size)  #training the model\n",
        "\n",
        "    state = next_state #new\n",
        "\n",
        "    #end of timesteps or terminated\n",
        "\n",
        "\n",
        "  #after every episode\n",
        "  \n",
        "  if episode % c == 0:\n",
        "      agent.sync_weights()\n",
        "\n",
        "  if agent.epsilon > 0.001:\n",
        "      agent.epsilon *= epsilon_decay\n",
        "  else:\n",
        "      agent.epsilon = 0.001\n",
        "  \n",
        "  epsilon_values.append(agent.epsilon)\n",
        "  rewards.append(reward_val)\n",
        "  \n",
        "  #Average reward over last 10 episodes:\n",
        "  if episode >= 10:\n",
        "    avg_reward = np.sum(rewards[episode-10:])/10\n",
        "\n",
        "  if episode % (episodes//20) == 0 or episode == 1:\n",
        "    print(\"Episode: {}, Total reward: {}, Average reward: {}\".format(episode, reward_val, avg_reward))   \n",
        "\n",
        "  #Optimal reward checking\n",
        "  if avg_reward > 470:\n",
        "    print(\"Average above 470 Reached!!\")\n",
        "    break\n",
        "\n",
        "#plotting\n",
        "x = [e for e in range(1, episode+1)]\n",
        "y_e = epsilon_values \n",
        "y_r = rewards\n",
        "\n",
        "#Plots showing episodes vs epsilon, episodes vs rewards\n",
        "fig, (ax1, ax2) = plt.subplots(1, 2, figsize=(10,4))\n",
        "#episodes vs epsilon\n",
        "ax1.plot(x, y_e)\n",
        "ax1.set_title(\"Epsilon decay\")\n",
        "\n",
        "#episodes vs rewards\n",
        "ax2.plot(x,y_r)\n",
        "ax2.set_title(\"Rewards per episode\")\n",
        "end = timeit.timeit()\n",
        "\n",
        "print(\"Time taken: \", end - start)\n",
        "#500 episodes: 1:34"
      ],
      "metadata": {
        "colab": {
          "base_uri": "https://localhost:8080/",
          "height": 871
        },
        "outputId": "2c4182c7-9dcb-4cf2-c5c6-cc5ed3079067",
        "id": "2wl-Xvsgp9nY"
      },
      "execution_count": null,
      "outputs": [
        {
          "output_type": "stream",
          "name": "stdout",
          "text": [
            "Model: \"sequential_6\"\n",
            "_________________________________________________________________\n",
            " Layer (type)                Output Shape              Param #   \n",
            "=================================================================\n",
            " dense_18 (Dense)            (None, 32)                160       \n",
            "                                                                 \n",
            " dense_19 (Dense)            (None, 24)                792       \n",
            "                                                                 \n",
            " dense_20 (Dense)            (None, 2)                 50        \n",
            "                                                                 \n",
            "=================================================================\n",
            "Total params: 1,002\n",
            "Trainable params: 1,002\n",
            "Non-trainable params: 0\n",
            "_________________________________________________________________\n",
            "Episode: 1, Total reward: 9, Average reward: 0\n",
            "Episode: 50, Total reward: 23, Average reward: 16.0\n",
            "Episode: 100, Total reward: 18, Average reward: 22.7\n",
            "Episode: 150, Total reward: 22, Average reward: 23.9\n",
            "Episode: 200, Total reward: 104, Average reward: 76.8\n",
            "Episode: 250, Total reward: 155, Average reward: 120.3\n",
            "Episode: 300, Total reward: 181, Average reward: 197.2\n",
            "Episode: 350, Total reward: 148, Average reward: 182.0\n",
            "Episode: 400, Total reward: 170, Average reward: 223.2\n",
            "Episode: 450, Total reward: 289, Average reward: 296.7\n",
            "Episode: 500, Total reward: 288, Average reward: 359.4\n",
            "Episode: 550, Total reward: 262, Average reward: 362.6\n",
            "Episode: 600, Total reward: 281, Average reward: 401.4\n",
            "Episode: 650, Total reward: 500, Average reward: 393.8\n",
            "Episode: 700, Total reward: 269, Average reward: 401.8\n",
            "Episode: 750, Total reward: 500, Average reward: 448.8\n",
            "Average above 470 Reached!!\n",
            "CPU times: user 3h 31min 17s, sys: 11min 2s, total: 3h 42min 20s\n",
            "Wall time: 3h 40min 27s\n"
          ]
        },
        {
          "output_type": "display_data",
          "data": {
            "text/plain": [
              "<Figure size 720x288 with 2 Axes>"
            ],
            "image/png": "[encoded data removed]"
          },
          "metadata": {
            "needs_background": "light"
          }
        }
      ]
    },
    {
      "cell_type": "code",
      "source": [
        "#Evaluation Results\n",
        "rewards = []\n",
        "for episode in range(1, 11):\n",
        "  \n",
        "  state = agent.env.reset()\n",
        "  reward_val = 0\n",
        "  state = np.reshape(state, [1, agent.states_size])\n",
        "  done = False\n",
        "\n",
        "  while done == False:\n",
        "\n",
        "    action = agent.act(state, eval = True)\n",
        "\n",
        "    next_state, reward, done, _ = agent.env.step(action)\n",
        "    next_state = np.reshape(next_state, [1, agent.states_size])\n",
        "    reward_val += 1\n",
        "    state = next_state #new\n",
        "\n",
        "    #terminated\n",
        "  \n",
        "  #after every episode\n",
        "  rewards.append(reward_val)\n",
        "  print(\"Episode: {}, Total Reward: {}\".format(episode, reward_val))\n",
        "\n",
        "#Plots showing episodes vs rewards\n",
        "x = [episode for episode in range(1, 11)]\n",
        "y = rewards\n",
        "\n",
        "plt.plot(x, y)\n",
        "plt.title(\"Rewards per episode\")"
      ],
      "metadata": {
        "colab": {
          "base_uri": "https://localhost:8080/",
          "height": 472
        },
        "outputId": "c1af928f-b298-4b29-b205-568eee919527",
        "id": "ZNxmww5Zp9nb"
      },
      "execution_count": null,
      "outputs": [
        {
          "output_type": "stream",
          "name": "stdout",
          "text": [
            "Episode: 1, Total Reward: 500\n",
            "Episode: 2, Total Reward: 500\n",
            "Episode: 3, Total Reward: 500\n",
            "Episode: 4, Total Reward: 500\n",
            "Episode: 5, Total Reward: 386\n",
            "Episode: 6, Total Reward: 500\n",
            "Episode: 7, Total Reward: 442\n",
            "Episode: 8, Total Reward: 382\n",
            "Episode: 9, Total Reward: 500\n",
            "Episode: 10, Total Reward: 422\n"
          ]
        },
        {
          "output_type": "execute_result",
          "data": {
            "text/plain": [
              "Text(0.5, 1.0, 'Rewards per episode')"
            ]
          },
          "metadata": {},
          "execution_count": 8
        },
        {
          "output_type": "display_data",
          "data": {
            "text/plain": [
              "<Figure size 432x288 with 1 Axes>"
            ],
            "image/png": "[encoded data removed]"
          },
          "metadata": {
            "needs_background": "light"
          }
        }
      ]
    },
    {
      "cell_type": "code",
      "source": [
        ""
      ],
      "metadata": {
        "id": "xp6f06Bap9nc"
      },
      "execution_count": null,
      "outputs": []
    },
    {
      "cell_type": "markdown",
      "source": [
        "##Double DQN on Mountain Car-v0"
      ],
      "metadata": {
        "id": "fQ5Np70j0qXe"
      }
    },
    {
      "cell_type": "code",
      "source": [
        "env = gym.make('MountainCar-v0')\n",
        "env.reset()\n",
        "print(env.action_space)\n",
        "print(env.observation_space)"
      ],
      "metadata": {
        "colab": {
          "base_uri": "https://localhost:8080/"
        },
        "outputId": "d59f0f72-d1f6-4f01-ef62-13d526de0d6c",
        "id": "0EHZFi-t0qX1"
      },
      "execution_count": null,
      "outputs": [
        {
          "output_type": "stream",
          "name": "stdout",
          "text": [
            "Discrete(3)\n",
            "Box(-1.2000000476837158, 0.6000000238418579, (2,), float32)\n"
          ]
        }
      ]
    },
    {
      "cell_type": "code",
      "execution_count": null,
      "metadata": {
        "id": "fj3LSYF_s359",
        "outputId": "b0dad418-d164-4262-ddb1-2612a3170a8f"
      },
      "outputs": [
        {
          "name": "stdout",
          "output_type": "stream",
          "text": [
            "Model: \"sequential\"\n",
            "_________________________________________________________________\n",
            "Layer (type)                 Output Shape              Param #   \n",
            "=================================================================\n",
            "dense (Dense)                (None, 32)                96        \n",
            "_________________________________________________________________\n",
            "dense_1 (Dense)              (None, 24)                792       \n",
            "_________________________________________________________________\n",
            "dense_2 (Dense)              (None, 3)                 75        \n",
            "=================================================================\n",
            "Total params: 963\n",
            "Trainable params: 963\n",
            "Non-trainable params: 0\n",
            "_________________________________________________________________\n"
          ]
        },
        {
          "name": "stderr",
          "output_type": "stream",
          "text": [
            "/projects/academic/courses/cse546s22/nkarnati/anaconda3/lib/python3.7/site-packages/tensorflow/python/framework/indexed_slices.py:349: DeprecationWarning: Using or importing the ABCs from 'collections' instead of from 'collections.abc' is deprecated since Python 3.3,and in 3.9 it will stop working\n",
            "  if not isinstance(values, collections.Sequence):\n"
          ]
        },
        {
          "name": "stdout",
          "output_type": "stream",
          "text": [
            "Episode: 1, Average reward: -200, Average timesteps: 200\n",
            "Episode: 50, Average reward: -200.0, Average timesteps: 200.0\n",
            "Episode: 100, Average reward: -200.0, Average timesteps: 200.0\n",
            "Episode: 150, Average reward: -200.0, Average timesteps: 200.0\n",
            "Episode: 200, Average reward: -200.0, Average timesteps: 200.0\n",
            "Episode: 250, Average reward: -200.0, Average timesteps: 200.0\n",
            "Episode: 300, Average reward: -200.0, Average timesteps: 200.0\n",
            "Episode: 350, Average reward: -200.0, Average timesteps: 200.0\n",
            "Episode: 400, Average reward: -200.0, Average timesteps: 200.0\n",
            "Episode: 450, Average reward: -200.0, Average timesteps: 200.0\n",
            "Episode: 500, Average reward: -197.7, Average timesteps: 197.7\n",
            "Episode: 550, Average reward: -198.7, Average timesteps: 198.7\n",
            "Episode: 600, Average reward: -198.3, Average timesteps: 198.3\n",
            "Episode: 650, Average reward: -195.4, Average timesteps: 195.4\n",
            "Episode: 700, Average reward: -199.5, Average timesteps: 199.5\n",
            "Episode: 750, Average reward: -181.2, Average timesteps: 181.2\n",
            "Episode: 800, Average reward: -190.1, Average timesteps: 190.1\n",
            "Episode: 850, Average reward: -170.7, Average timesteps: 170.7\n",
            "Episode: 900, Average reward: -165.7, Average timesteps: 165.7\n",
            "Episode: 950, Average reward: -150.2, Average timesteps: 150.2\n",
            "Episode: 1000, Average reward: -151.3, Average timesteps: 151.3\n",
            "Episode: 1050, Average reward: -143.8, Average timesteps: 143.8\n",
            "Episode: 1100, Average reward: -168.8, Average timesteps: 168.8\n",
            "Episode: 1150, Average reward: -132.6, Average timesteps: 132.6\n",
            "Episode: 1200, Average reward: -147.5, Average timesteps: 147.5\n",
            "Episode: 1250, Average reward: -162.7, Average timesteps: 162.7\n",
            "Episode: 1300, Average reward: -132.6, Average timesteps: 132.6\n",
            "Episode: 1350, Average reward: -147.8, Average timesteps: 147.8\n",
            "Episode: 1400, Average reward: -143.0, Average timesteps: 143.0\n",
            "Episode: 1450, Average reward: -135.2, Average timesteps: 135.2\n",
            "Episode: 1500, Average reward: -128.2, Average timesteps: 128.2\n",
            "Episode: 1550, Average reward: -135.2, Average timesteps: 135.2\n",
            "Episode: 1600, Average reward: -140.3, Average timesteps: 140.3\n",
            "Episode: 1650, Average reward: -137.2, Average timesteps: 137.2\n",
            "Episode: 1700, Average reward: -141.8, Average timesteps: 141.8\n",
            "Episode: 1750, Average reward: -147.6, Average timesteps: 147.6\n",
            "Episode: 1800, Average reward: -132.4, Average timesteps: 132.4\n",
            "Episode: 1850, Average reward: -150.2, Average timesteps: 150.2\n",
            "Episode: 1900, Average reward: -144.7, Average timesteps: 144.7\n",
            "Episode: 1950, Average reward: -149.4, Average timesteps: 149.4\n",
            "Episode: 2000, Average reward: -141.4, Average timesteps: 141.4\n",
            "Episode: 2050, Average reward: -154.0, Average timesteps: 154.0\n",
            "Episode: 2100, Average reward: -157.9, Average timesteps: 157.9\n",
            "Episode: 2150, Average reward: -162.6, Average timesteps: 162.6\n",
            "Episode: 2200, Average reward: -148.1, Average timesteps: 148.1\n",
            "Episode: 2250, Average reward: -152.7, Average timesteps: 152.7\n",
            "Episode: 2300, Average reward: -165.0, Average timesteps: 165.0\n",
            "Episode: 2350, Average reward: -150.7, Average timesteps: 150.7\n",
            "Episode: 2400, Average reward: -165.4, Average timesteps: 165.4\n",
            "Episode: 2450, Average reward: -150.9, Average timesteps: 150.9\n",
            "Episode: 2500, Average reward: -148.4, Average timesteps: 148.4\n",
            "Episode: 2550, Average reward: -157.6, Average timesteps: 157.6\n",
            "Episode: 2600, Average reward: -149.5, Average timesteps: 149.5\n",
            "Episode: 2650, Average reward: -151.2, Average timesteps: 151.2\n",
            "Episode: 2700, Average reward: -132.2, Average timesteps: 132.2\n",
            "Episode: 2750, Average reward: -152.3, Average timesteps: 152.3\n",
            "Episode: 2800, Average reward: -156.1, Average timesteps: 156.1\n",
            "Episode: 2850, Average reward: -153.7, Average timesteps: 153.7\n",
            "Episode: 2900, Average reward: -143.1, Average timesteps: 143.1\n",
            "Episode: 2950, Average reward: -144.4, Average timesteps: 144.4\n",
            "Episode: 3000, Average reward: -135.9, Average timesteps: 135.9\n",
            "Episode: 3050, Average reward: -135.9, Average timesteps: 135.9\n",
            "Episode: 3100, Average reward: -130.2, Average timesteps: 130.2\n",
            "Episode: 3150, Average reward: -143.9, Average timesteps: 143.9\n",
            "Episode: 3200, Average reward: -144.6, Average timesteps: 144.6\n",
            "Episode: 3250, Average reward: -153.4, Average timesteps: 153.4\n",
            "Episode: 3300, Average reward: -130.0, Average timesteps: 130.0\n",
            "Episode: 3350, Average reward: -139.4, Average timesteps: 139.4\n",
            "Episode: 3400, Average reward: -127.9, Average timesteps: 127.9\n",
            "Episode: 3450, Average reward: -123.6, Average timesteps: 123.6\n",
            "Episode: 3500, Average reward: -144.0, Average timesteps: 144.0\n",
            "Car reached the top of the hill!!\n",
            "Time taken:  -0.001433901023119688\n"
          ]
        },
        {
          "data": {
            "image/png": "[encoded data removed]",
            "text/plain": [
              "<Figure size 1296x360 with 3 Axes>"
            ]
          },
          "metadata": {
            "needs_background": "light"
          },
          "output_type": "display_data"
        }
      ],
      "source": [
        "start = timeit.timeit()\n",
        "#DQN Algorithm on Mountain Car env\n",
        "\n",
        "class DDQN_algomountaincar:\n",
        "\n",
        "  def __init__(self):\n",
        "    self.env = gym.make('MountainCar-v0')\n",
        "    self.states_size = self.env.observation_space.shape[0]\n",
        "    self.actions_size = self.env.action_space.n\n",
        "    self.replay_mem = deque(maxlen = 5000)\n",
        "\n",
        "    self.discount_rate = 0.99\n",
        "    self.epsilon = 1\n",
        "    self.t = 0.01\n",
        "    \n",
        "    #Policy and target networks\n",
        "    self.policy_model = self.nnmodel()\n",
        "    self.target_model = self.nnmodel()\n",
        "\n",
        "    self.target_model.set_weights(self.policy_model.get_weights())\n",
        "    self.policy_model.summary()\n",
        "\n",
        "  def nnmodel(self):\n",
        "\n",
        "    with tf.device('/device:GPU:0'):\n",
        "\n",
        "      model = Sequential()\n",
        "      model.add(Dense(32, activation='relu', input_dim = self.states_size)) #first hidden layer with 32 nodes taking input from 16 - one hot vector of a state\n",
        "      model.add(Dense(24, activation='relu')) #first hidden layer with 28 nodes taking input from the first dense layer\n",
        "      model.add(Dense(self.actions_size, activation='linear')) #output layers has q value for 4 actions\n",
        "      model.compile(loss = 'mse', optimizer = Adam(learning_rate=0.001))\n",
        "      return model\n",
        "\n",
        "  def store(self, state, action, reward, next_state, done):\n",
        "   self.replay_mem.append((state, action, reward, next_state, done))\n",
        "\n",
        "  def act(self, state, eval = False):\n",
        "\n",
        "    with tf.device('/device:GPU:0'):\n",
        "      rand_num = np.random.random()\n",
        "      if self.epsilon > rand_num and eval == False:\n",
        "        return np.random.choice(agent.actions_size)\n",
        "      else:\n",
        "        action_values = self.policy_model.predict(state)\n",
        "        return np.argmax(action_values[0])\n",
        "\n",
        "  def replay(self, batch_size):\n",
        "    with tf.device('/device:GPU:0'):\n",
        "\n",
        "      if len(self.replay_mem) < batch_size:\n",
        "        return\n",
        "      \n",
        "      minibatch = random.sample(self.replay_mem, batch_size)\n",
        "      temp_states = np.array([sample[0] for sample in minibatch])\n",
        "      temp_next_states = np.array([sample[3] for sample in minibatch])\n",
        "\n",
        "      policy_qvals = self.policy_model.predict(temp_states.reshape(-1, self.states_size))\n",
        "      target_qvals = self.target_model.predict(temp_next_states.reshape(-1, self.states_size))\n",
        "\n",
        "      X = []\n",
        "      y = []\n",
        "\n",
        "      for index, (s0, action, reward, s1, done) in enumerate(minibatch):\n",
        "\n",
        "        if not done:    \n",
        "          action_val = np.argmax(policy_qvals[index])\n",
        "          y_target = reward + self.discount_rate*target_qvals[index][action_val]\n",
        "        else:\n",
        "          y_target = reward\n",
        "\n",
        "        q_val = policy_qvals[index]\n",
        "        q_val[action] = y_target\n",
        "        X.append(s0)\n",
        "        y.append(q_val)\n",
        "\n",
        "      self.policy_model.fit(np.array(X).reshape(-1, self.states_size), np.array(y), batch_size = batch_size, epochs = 3, verbose = 0)\n",
        "\n",
        "  def sync_weights(self):\n",
        "    for target_param, param in zip(self.target_model.trainable_variables, self.policy_model.trainable_variables):\n",
        "        target_param.assign(self.t * param + (1 - self.t) * target_param) \n",
        "\n",
        "\n",
        "#Agent declaration\n",
        "agent = DDQN_algomountaincar()\n",
        "\n",
        "with tf.device('/device:GPU:0'):\n",
        "\n",
        "  episodes = 4000 #Num of episodes 1000... 200 for every time training\n",
        "  batch_size = 128 #Minibatch size\n",
        "  c = 3 #sync weights every 3 episodes\n",
        "  rewards = []\n",
        "  epsilon_values = []\n",
        "  epsilon_decay = (0.001/1)**(1/episodes)\n",
        "\n",
        "  avg_timesteps = 200\n",
        "  avg_reward = -200\n",
        "  total_timesteps = []\n",
        "\n",
        "  for episode in range(1, episodes+1):\n",
        "    \n",
        "    state = agent.env.reset()\n",
        "    total_reward = 0\n",
        "    reward_val = 0\n",
        "    timesteps = 0\n",
        "    state = np.reshape(state, [1, agent.states_size])\n",
        "    done = False\n",
        "\n",
        "    while done == False:\n",
        "\n",
        "      action = agent.act(state)\n",
        "\n",
        "      next_state, reward, done, _ = agent.env.step(action)\n",
        "      reward_val = reward\n",
        "      next_state = np.reshape(next_state, [1, agent.states_size])\n",
        "\n",
        "      #different reward for faster convergence\n",
        "      reward = 100*((math.sin(3*next_state[0,0]) * 0.0025 + 0.5 * next_state[0,1] * next_state[0,1]) - (math.sin(3*state[0,0]) * 0.0025 + 0.5 * state[0,1] * state[0,1]))\n",
        "      \n",
        "      agent.store(state, action, reward, next_state, done)\n",
        "\n",
        "      timesteps += 1\n",
        "      total_reward += reward_val\n",
        "      \n",
        "      if timesteps % 5 == 0: #reduce maybe better performance\n",
        "        agent.replay(batch_size)  #training the model\n",
        "\n",
        "      state = next_state #new\n",
        "\n",
        "      #end of timesteps or terminated\n",
        "      \n",
        "    #after every episode\n",
        "    \n",
        "    if episode % c == 0:\n",
        "        agent.sync_weights()\n",
        "\n",
        "    if agent.epsilon > 0.001:\n",
        "        agent.epsilon *= epsilon_decay\n",
        "    else:\n",
        "        agent.epsilon = 0.001\n",
        "    \n",
        "    epsilon_values.append(agent.epsilon)\n",
        "    rewards.append(total_reward)\n",
        "    total_timesteps.append(timesteps)\n",
        "    \n",
        "    #Average reward over last 10 episodes:\n",
        "    if episode >= 10:\n",
        "      avg_timesteps = np.sum(total_timesteps[episode-10:])/10\n",
        "      avg_reward = np.sum(rewards[episode-10:])/10\n",
        "\n",
        "    if episode % (episodes//80) == 0 or episode == 1:\n",
        "      print(\"Episode: {}, Average reward: {}, Average timesteps: {}\".format(episode, avg_reward, avg_timesteps))   \n",
        "\n",
        "    #Optimal timesteps checking #strict condition is avg_reward = -110 in 100 runs \n",
        "    if avg_reward > -110:\n",
        "      print(\"Car reached the top of the hill!!\")\n",
        "      break\n",
        "\n",
        "  #plotting\n",
        "  x = [e for e in range(1, episode+1)]\n",
        "  y_e = epsilon_values \n",
        "  y_t = total_timesteps\n",
        "  y_r = rewards\n",
        "\n",
        "  #Plots showing episodes vs epsilon, episodes vs rewards\n",
        "  fig, (ax1, ax2, ax3) = plt.subplots(1, 3, figsize=(18,5))\n",
        "  #episodes vs epsilon\n",
        "  ax1.plot(x, y_e)\n",
        "  ax1.set_title(\"Epsilon decay\")\n",
        "\n",
        "  #episodes vs rewards\n",
        "  ax2.plot(x, y_r)\n",
        "  ax2.set_title(\"Rewards per episode\")\n",
        "\n",
        "  #episodes vs timesteps\n",
        "  ax3.plot(x,y_t)\n",
        "  ax3.set_title(\"Timesteps per episode\")\n",
        "\n",
        "  end = timeit.timeit()\n",
        "  print(\"Time taken: \", end - start)\n",
        "  #time taken: 4:30 for 4000 episodes"
      ]
    },
    {
      "cell_type": "code",
      "execution_count": null,
      "metadata": {
        "id": "7Wu0P7Tps36O",
        "outputId": "ea428dc6-a095-42f5-cfd9-3bd53ab33bfd"
      },
      "outputs": [
        {
          "name": "stdout",
          "output_type": "stream",
          "text": [
            "Episode: 1, Total Reward: -128.0, Timesteps: 128\n",
            "Episode: 2, Total Reward: -129.0, Timesteps: 129\n",
            "Episode: 3, Total Reward: -111.0, Timesteps: 111\n",
            "Episode: 4, Total Reward: -127.0, Timesteps: 127\n",
            "Episode: 5, Total Reward: -112.0, Timesteps: 112\n",
            "Episode: 6, Total Reward: -98.0, Timesteps: 98\n",
            "Episode: 7, Total Reward: -134.0, Timesteps: 134\n",
            "Episode: 8, Total Reward: -132.0, Timesteps: 132\n",
            "Episode: 9, Total Reward: -135.0, Timesteps: 135\n",
            "Episode: 10, Total Reward: -98.0, Timesteps: 98\n"
          ]
        },
        {
          "data": {
            "text/plain": [
              "Text(0.5, 1.0, 'Timesteps per episode')"
            ]
          },
          "execution_count": 6,
          "metadata": {},
          "output_type": "execute_result"
        },
        {
          "data": {
            "image/png": "[encoded data removed]",
            "text/plain": [
              "<Figure size 720x288 with 2 Axes>"
            ]
          },
          "metadata": {
            "needs_background": "light"
          },
          "output_type": "display_data"
        }
      ],
      "source": [
        "#Evaluation Results\n",
        "total_timesteps = []\n",
        "rewards = []\n",
        "for episode in range(1, 11):\n",
        "  \n",
        "  state = agent.env.reset()\n",
        "  timesteps = 0\n",
        "  reward_val = 0\n",
        "  state = np.reshape(state, [1, agent.states_size])\n",
        "  done = False\n",
        "\n",
        "  while done == False:\n",
        "\n",
        "    action = agent.act(state, eval = True)\n",
        "\n",
        "    next_state, reward, done, _ = agent.env.step(action)\n",
        "    reward_val += reward\n",
        "    next_state = np.reshape(next_state, [1, agent.states_size])\n",
        "    timesteps += 1\n",
        "    state = next_state #new\n",
        "\n",
        "    #terminated\n",
        "  \n",
        "  #after every episode\n",
        "  rewards.append(reward_val)\n",
        "  total_timesteps.append(timesteps)\n",
        "  print(\"Episode: {}, Total Reward: {}, Timesteps: {}\".format(episode, reward_val, timesteps))\n",
        "\n",
        "#Plots showing episodes vs rewards\n",
        "x = [episode for episode in range(1, 11)]\n",
        "y_t = total_timesteps\n",
        "y_r = rewards\n",
        "\n",
        "fig, (ax1, ax2) = plt.subplots(1, 2, figsize=(10,4))\n",
        "#episodes vs reward\n",
        "ax1.plot(x, y_r)\n",
        "ax1.set_title(\"Rewards per episode\")\n",
        "\n",
        "#episodes vs rewards\n",
        "ax2.plot(x, y_t)\n",
        "ax2.set_title(\"Timesteps per episode\")"
      ]
    },
    {
      "cell_type": "code",
      "execution_count": null,
      "metadata": {
        "id": "k7RL7sVWs36R"
      },
      "outputs": [],
      "source": [
        ""
      ]
    }
  ]
}